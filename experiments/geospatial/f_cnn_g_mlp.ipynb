{
 "cells": [
  {
   "cell_type": "code",
   "execution_count": 1,
   "id": "40199b3d",
   "metadata": {},
   "outputs": [
    {
     "name": "stderr",
     "output_type": "stream",
     "text": [
      "/Users/a45329/miniconda/envs/zj63/lib/python3.9/site-packages/scipy/__init__.py:146: UserWarning: A NumPy version >=1.17.3 and <1.25.0 is required for this version of SciPy (detected version 1.26.2\n",
      "  warnings.warn(f\"A NumPy version >={np_minversion} and <{np_maxversion}\"\n"
     ]
    }
   ],
   "source": [
    "import sys\n",
    "sys.path.insert(0, '../../src/')\n",
    "import argparse\n",
    "import pickle as pkl\n",
    "import numpy as np\n",
    "import torch\n",
    "from torch.utils.data import DataLoader\n",
    "\n",
    "from data_generator import train_val_test_split\n",
    "from models import NonlinearSCI\n",
    "from trainers import Trainer\n",
    "\n",
    "np.random.seed(2020)\n",
    "torch.manual_seed(2020)\n",
    "torch.cuda.manual_seed(2020)\n",
    "torch.cuda.manual_seed_all(2020)\n",
    "torch.backends.cudnn.deterministic = True"
   ]
  },
  {
   "cell_type": "code",
   "execution_count": 2,
   "id": "679ff69e",
   "metadata": {},
   "outputs": [],
   "source": [
    "def main(args):\n",
    "    with open('../../data/dataset_1.pkl', 'rb') as f:\n",
    "        data = pkl.load(f)\n",
    "    ndvi = [np.array([x[3] for x in data])]   # intervention\n",
    "    nlcd = np.array([x[2] for x in data])     # confounder\n",
    "    spatial_features = np.array([abs(x[0]-x[1]) for x in data])\n",
    "    targets = np.array([x[4] for x in data])\n",
    "\n",
    "    train_dataset, val_dataset, test_dataset = train_val_test_split(\n",
    "        ndvi, nlcd, spatial_features, targets, train_size=0.6, val_size=0.2, test_size=0.2, shuffle=True\n",
    "    )\n",
    "    train_dataloader = DataLoader(train_dataset, batch_size=args.batch_size, shuffle=True)\n",
    "    val_dataloader = DataLoader(val_dataset, batch_size=args.batch_size, shuffle=False)\n",
    "    test_dataloader = DataLoader(test_dataset, batch_size=args.batch_size, shuffle=False)\n",
    "    dataloaders = {'train': train_dataloader, 'val': val_dataloader, 'test': test_dataloader}\n",
    "\n",
    "    min_dist, max_dist = np.min(spatial_features), np.max(spatial_features)\n",
    "    model = NonlinearSCI(\n",
    "        num_interventions=1, \n",
    "        window_size=ndvi[0].shape[-1], \n",
    "        confounder_dim=nlcd.shape[-1], \n",
    "        f_network_type=\"dk_convnet\", \n",
    "        g_network_type=\"dk_mlp\", \n",
    "        unobserved_confounder=True, \n",
    "        nys_space=[[min_dist,max_dist]]\n",
    "    )\n",
    "\n",
    "    device = torch.device(\"cuda\" if torch.cuda.is_available() else \"cpu\")\n",
    "    optim = args.optim_name\n",
    "    optim_params = {\n",
    "        'lr': args.lr,\n",
    "        'momentum': args.momentum\n",
    "    }\n",
    "    epochs, patience = args.n_epochs, args.patience\n",
    "    trainer = Trainer(\n",
    "        model=model, \n",
    "        data_generators=dataloaders, \n",
    "        optim=optim, \n",
    "        optim_params=optim_params, \n",
    "        device=device,\n",
    "        epochs=epochs,\n",
    "        patience=patience\n",
    "    )\n",
    "    trainer.train()"
   ]
  },
  {
   "cell_type": "code",
   "execution_count": null,
   "id": "ceaa016b",
   "metadata": {},
   "outputs": [],
   "source": [
    "if __name__ == '__main__':\n",
    "    arg_parser = argparse.ArgumentParser(description='f: DeepKriging with CNN, g: DeepKriging with MLP')\n",
    "    arg_parser.add_argument('--batch_size', type=int, default=16)\n",
    "    arg_parser.add_argument('--optim_name', type=str, default=\"sgd\")\n",
    "    arg_parser.add_argument('--lr', type=float, default=1e-6)\n",
    "    arg_parser.add_argument('--momentum', type=float, default=0.99)\n",
    "    arg_parser.add_argument('--n_epochs', type=int, default=1000)\n",
    "    arg_parser.add_argument('--patience', type=int, default=10)\n",
    "    args = arg_parser.parse_known_args()[0]\n",
    "    main(args)"
   ]
  }
 ],
 "metadata": {
  "kernelspec": {
   "display_name": "Python 3 (ipykernel)",
   "language": "python",
   "name": "python3"
  },
  "language_info": {
   "codemirror_mode": {
    "name": "ipython",
    "version": 3
   },
   "file_extension": ".py",
   "mimetype": "text/x-python",
   "name": "python",
   "nbconvert_exporter": "python",
   "pygments_lexer": "ipython3",
   "version": "3.9.10"
  }
 },
 "nbformat": 4,
 "nbformat_minor": 5
}
