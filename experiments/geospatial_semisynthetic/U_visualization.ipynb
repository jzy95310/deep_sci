{
 "cells": [
  {
   "cell_type": "code",
   "execution_count": null,
   "id": "217be6d9",
   "metadata": {},
   "outputs": [],
   "source": [
    "import os\n",
    "import numpy as np\n",
    "import matplotlib.pyplot as plt\n",
    "import rasterio as rio"
   ]
  },
  {
   "cell_type": "code",
   "execution_count": null,
   "id": "60b8bffd",
   "metadata": {},
   "outputs": [],
   "source": [
    "model_names = [\n",
    "    \"linear_with_U\",\n",
    "    \"f_cnn_g_mlp_with_U\",\n",
    "    \"f_unet_g_mlp_with_U\",\n",
    "]\n",
    "fig, axs = plt.subplots(3, 1, figsize=(6, 20))\n",
    "for i in range(len(model_names)):\n",
    "    u_pred_map = np.load(f\"./results_u/u_pred_map_{model_names[i]}.npy\")\n",
    "    img = axs[i].imshow(u_pred_map, cmap=\"inferno\")\n",
    "    fig.colorbar(img, ax=axs[i], shrink=0.6)\n",
    "plt.tight_layout(pad=0.8)\n",
    "if not os.path.exists(\"./Figures\"):\n",
    "    os.makedirs(\"./Figures\")\n",
    "plt.savefig(\"./Figures/u_pred.pdf\", dpi=300)"
   ]
  },
  {
   "cell_type": "code",
   "execution_count": null,
   "id": "23aabfb9",
   "metadata": {},
   "outputs": [],
   "source": [
    "with rio.open(\"../../data/geospatial_data/durham/durham_synth_unobs_confound.tif\") as src:\n",
    "    u_true = src.read(1)\n",
    "\n",
    "fig, ax = plt.subplots(1, 1, figsize=(6, 7))\n",
    "img = ax.imshow(u_true, cmap=\"inferno\")\n",
    "fig.colorbar(img, ax=ax, shrink=0.6)\n",
    "plt.tight_layout(pad=0.8)\n",
    "plt.savefig(\"./Figures/u_true.pdf\", dpi=300)"
   ]
  }
 ],
 "metadata": {
  "kernelspec": {
   "display_name": "Python 3 (ipykernel)",
   "language": "python",
   "name": "python3"
  },
  "language_info": {
   "codemirror_mode": {
    "name": "ipython",
    "version": 3
   },
   "file_extension": ".py",
   "mimetype": "text/x-python",
   "name": "python",
   "nbconvert_exporter": "python",
   "pygments_lexer": "ipython3",
   "version": "3.8.12"
  }
 },
 "nbformat": 4,
 "nbformat_minor": 5
}
