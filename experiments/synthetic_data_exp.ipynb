{
 "cells": [
  {
   "cell_type": "code",
   "execution_count": 1,
   "id": "01b93a91",
   "metadata": {},
   "outputs": [
    {
     "name": "stderr",
     "output_type": "stream",
     "text": [
      "\u001b[34m\u001b[1mwandb\u001b[0m: Currently logged in as: \u001b[33mziyang-jiang\u001b[0m (\u001b[33mcarlsonlab\u001b[0m). Use \u001b[1m`wandb login --relogin`\u001b[0m to force relogin\n"
     ]
    }
   ],
   "source": [
    "import torch\n",
    "import sys\n",
    "sys.path.insert(0, '../src')\n",
    "import wandb\n",
    "import pickle as pkl\n",
    "import numpy as np\n",
    "from torch.utils.data import DataLoader\n",
    "\n",
    "from data_generator import SpatialDataset, train_val_test_split\n",
    "from models import LinearSCI, NonlinearSCI\n",
    "from trainers import Trainer\n",
    "\n",
    "# Experimental tracking\n",
    "wandb.login()\n",
    "\n",
    "np.random.seed(2023)\n",
    "torch.manual_seed(2023)\n",
    "torch.cuda.manual_seed(2023)\n",
    "torch.cuda.manual_seed_all(2023)\n",
    "torch.backends.cudnn.deterministic = True"
   ]
  },
  {
   "cell_type": "markdown",
   "id": "8b8ec598",
   "metadata": {},
   "source": [
    "# Load data"
   ]
  },
  {
   "cell_type": "code",
   "execution_count": 2,
   "id": "c22746a9",
   "metadata": {},
   "outputs": [],
   "source": [
    "with open('../data/synthetic_data.pkl', 'rb') as fp:\n",
    "    data = pkl.load(fp)\n",
    "neighborhood_size = data['neighborhood_size']\n",
    "T = np.concatenate(\n",
    "    [data['T_bar'][:,:neighborhood_size], \n",
    "     data['T'], \n",
    "     data['T_bar'][:,neighborhood_size:]], axis=1)\n",
    "X, Y, s = data['X'], data['Y'], data['s']\n",
    "de_0, de_1, ie_0, ie_1, te = data['de_0'], data['de_1'], data['ie_0'], data['ie_1'], data['te']\n",
    "\n",
    "train_dataset, val_dataset, test_dataset = train_val_test_split(\n",
    "    t=[T], x=X, s=s, y=Y, train_size=0.6, val_size=0.2, test_size=0.2, \n",
    "    shuffle=True, random_state=2020\n",
    ")\n",
    "train_loader = DataLoader(train_dataset, batch_size=50, shuffle=True)\n",
    "val_loader = DataLoader(val_dataset, batch_size=50, shuffle=False)\n",
    "test_loader = DataLoader(test_dataset, batch_size=50, shuffle=False)\n",
    "dataloaders = {'train': train_loader, 'val': val_loader, 'test': test_loader}"
   ]
  },
  {
   "cell_type": "markdown",
   "id": "f030ccd5",
   "metadata": {},
   "source": [
    "# Method 1: Linear model without U"
   ]
  },
  {
   "cell_type": "markdown",
   "id": "3d720038",
   "metadata": {},
   "source": [
    "### Training"
   ]
  },
  {
   "cell_type": "code",
   "execution_count": null,
   "id": "e6e2d42f",
   "metadata": {},
   "outputs": [],
   "source": [
    "model = LinearSCI(\n",
    "    num_interventions=1, \n",
    "    window_size=neighborhood_size*2+1, \n",
    "    confounder_dim=X.shape[1]\n",
    ")\n",
    "\n",
    "# Experimental tracking\n",
    "wandb.init(\n",
    "    project=\"deep_sci\",\n",
    "    name=\"linear_without_U\", \n",
    "    allow_val_change=True\n",
    ")\n",
    "config = wandb.config\n",
    "\n",
    "# Training\n",
    "device = torch.device(\"cuda\" if torch.cuda.is_available() else \"cpu\")\n",
    "optim = \"adam\"\n",
    "optim_params = {\n",
    "    'lr': 1e-3, \n",
    "    # 'momentum': 0.99\n",
    "}\n",
    "epochs, patience = 1000, 50\n",
    "trainer = Trainer(\n",
    "    model=model, \n",
    "    data_generators=dataloaders, \n",
    "    optim=optim, \n",
    "    optim_params=optim_params, \n",
    "    device=device,\n",
    "    epochs=epochs,\n",
    "    patience=patience, \n",
    "    wandb=wandb\n",
    ")\n",
    "trainer.train()"
   ]
  },
  {
   "cell_type": "markdown",
   "id": "c540eece",
   "metadata": {},
   "source": [
    "### Evaluation"
   ]
  },
  {
   "cell_type": "code",
   "execution_count": 4,
   "id": "9cb0c11c",
   "metadata": {},
   "outputs": [
    {
     "name": "stdout",
     "output_type": "stream",
     "text": [
      "Error on prediction of average local and interference effects:\n",
      "--------------------------------------------------------------\n",
      "Average local effect (T_bar = 0) = 0.41407\n",
      "Average local effect (T_bar = 1) = 0.41407\n",
      "Average interference effect (T = 0) = 0.66975\n",
      "Average interference effect (T = 1) = 0.66975\n",
      "Average total effect = 0.25568\n"
     ]
    }
   ],
   "source": [
    "y_pred_00 = trainer.predict(neighborhood_size*2+1, direct=False, indirect=False)\n",
    "y_pred_01 = trainer.predict(neighborhood_size*2+1, direct=False, indirect=True)\n",
    "y_pred_10 = trainer.predict(neighborhood_size*2+1, direct=True, indirect=False)\n",
    "y_pred_11 = trainer.predict(neighborhood_size*2+1, direct=True, indirect=True)\n",
    "de_0_pred, de_1_pred = np.mean(y_pred_10 - y_pred_00), np.mean(y_pred_11 - y_pred_01)\n",
    "ie_0_pred, ie_1_pred = np.mean(y_pred_01 - y_pred_00), np.mean(y_pred_11 - y_pred_10)\n",
    "te_pred = np.mean(y_pred_11 - y_pred_00)\n",
    "print(\"Error on prediction of average local and interference effects:\")\n",
    "print(\"--------------------------------------------------------------\")\n",
    "print(f\"Average local effect (T_bar = 0) = {np.abs(de_0_pred - de_0):.5f}\")\n",
    "print(f\"Average local effect (T_bar = 1) = {np.abs(de_1_pred - de_1):.5f}\")\n",
    "print(f\"Average interference effect (T = 0) = {np.abs(ie_0_pred - ie_0):.5f}\")\n",
    "print(f\"Average interference effect (T = 1) = {np.abs(ie_1_pred - ie_1):.5f}\")\n",
    "print(f\"Average total effect = {np.abs(te_pred - te):.5f}\")"
   ]
  },
  {
   "cell_type": "markdown",
   "id": "0ed40a31",
   "metadata": {},
   "source": [
    "# Model 2: Linear model with U"
   ]
  },
  {
   "cell_type": "markdown",
   "id": "af4aa392",
   "metadata": {},
   "source": [
    "### Training"
   ]
  },
  {
   "cell_type": "code",
   "execution_count": null,
   "id": "9ba41c83",
   "metadata": {},
   "outputs": [],
   "source": [
    "model = LinearSCI(\n",
    "    num_interventions=1, \n",
    "    window_size=neighborhood_size*2+1, \n",
    "    confounder_dim=X.shape[1], \n",
    "    unobserved_confounder=True\n",
    ")\n",
    "\n",
    "# Experimental tracking\n",
    "wandb.init(\n",
    "    project=\"deep_sci\",\n",
    "    name=\"linear_with_U\", \n",
    "    allow_val_change=True\n",
    ")\n",
    "config = wandb.config\n",
    "\n",
    "# Training\n",
    "device = torch.device(\"cuda\" if torch.cuda.is_available() else \"cpu\")\n",
    "optim = \"adam\"\n",
    "optim_params = {\n",
    "    'lr': 1e-3, \n",
    "    # 'momentum': 0.99\n",
    "}\n",
    "epochs, patience = 1000, 50\n",
    "trainer = Trainer(\n",
    "    model=model, \n",
    "    data_generators=dataloaders, \n",
    "    optim=optim, \n",
    "    optim_params=optim_params, \n",
    "    device=device,\n",
    "    epochs=epochs,\n",
    "    patience=patience, \n",
    "    wandb=wandb\n",
    ")\n",
    "trainer.train()"
   ]
  },
  {
   "cell_type": "markdown",
   "id": "22c417ad",
   "metadata": {},
   "source": [
    "### Evaluation"
   ]
  },
  {
   "cell_type": "code",
   "execution_count": 6,
   "id": "96eac5b7",
   "metadata": {},
   "outputs": [
    {
     "name": "stdout",
     "output_type": "stream",
     "text": [
      "Error on prediction of average local and interference effects:\n",
      "--------------------------------------------------------------\n",
      "Average local effect (T_bar = 0) = 0.71872\n",
      "Average local effect (T_bar = 1) = 0.71872\n",
      "Average interference effect (T = 0) = 1.20954\n",
      "Average interference effect (T = 1) = 1.20954\n",
      "Average total effect = 0.49083\n"
     ]
    }
   ],
   "source": [
    "y_pred_00 = trainer.predict(neighborhood_size*2+1, direct=False, indirect=False)\n",
    "y_pred_01 = trainer.predict(neighborhood_size*2+1, direct=False, indirect=True)\n",
    "y_pred_10 = trainer.predict(neighborhood_size*2+1, direct=True, indirect=False)\n",
    "y_pred_11 = trainer.predict(neighborhood_size*2+1, direct=True, indirect=True)\n",
    "de_0_pred, de_1_pred = np.mean(y_pred_10 - y_pred_00), np.mean(y_pred_11 - y_pred_01)\n",
    "ie_0_pred, ie_1_pred = np.mean(y_pred_01 - y_pred_00), np.mean(y_pred_11 - y_pred_10)\n",
    "te_pred = np.mean(y_pred_11 - y_pred_00)\n",
    "print(\"Error on prediction of average local and interference effects:\")\n",
    "print(\"--------------------------------------------------------------\")\n",
    "print(f\"Average local effect (T_bar = 0) = {np.abs(de_0_pred - de_0):.5f}\")\n",
    "print(f\"Average local effect (T_bar = 1) = {np.abs(de_1_pred - de_1):.5f}\")\n",
    "print(f\"Average interference effect (T = 0) = {np.abs(ie_0_pred - ie_0):.5f}\")\n",
    "print(f\"Average interference effect (T = 1) = {np.abs(ie_1_pred - ie_1):.5f}\")\n",
    "print(f\"Average total effect = {np.abs(te_pred - te):.5f}\")"
   ]
  },
  {
   "cell_type": "markdown",
   "id": "de48a756",
   "metadata": {},
   "source": [
    "# Model 3: Nonlinear model without U (f: MLP, g:MLP)"
   ]
  },
  {
   "cell_type": "markdown",
   "id": "dc78ab06",
   "metadata": {},
   "source": [
    "### Training"
   ]
  },
  {
   "cell_type": "code",
   "execution_count": null,
   "id": "cde97382",
   "metadata": {},
   "outputs": [],
   "source": [
    "model = NonlinearSCI(\n",
    "    num_interventions=1, \n",
    "    window_size=neighborhood_size*2+1, \n",
    "    confounder_dim=X.shape[1], \n",
    "    f_network_type=\"mlp\", \n",
    "    f_hidden_dims=[64,32], \n",
    "    g_network_type=\"mlp\", \n",
    "    g_hidden_dims=[64,32]\n",
    ")\n",
    "\n",
    "# Experimental tracking\n",
    "wandb.init(\n",
    "    project=\"deep_sci\",\n",
    "    name=\"nonlinear_without_U_f_mlp_g_mlp\", \n",
    "    allow_val_change=True\n",
    ")\n",
    "config = wandb.config\n",
    "\n",
    "# Training\n",
    "device = torch.device(\"cuda\" if torch.cuda.is_available() else \"cpu\")\n",
    "optim = \"adam\"\n",
    "optim_params = {\n",
    "    'lr': 1e-3, \n",
    "    # 'momentum': 0.99\n",
    "}\n",
    "epochs, patience = 1000, 50\n",
    "trainer = Trainer(\n",
    "    model=model, \n",
    "    data_generators=dataloaders, \n",
    "    optim=optim, \n",
    "    optim_params=optim_params, \n",
    "    device=device,\n",
    "    epochs=epochs,\n",
    "    patience=patience, \n",
    "    wandb=wandb\n",
    ")\n",
    "trainer.train()"
   ]
  },
  {
   "cell_type": "markdown",
   "id": "bf815f3d",
   "metadata": {},
   "source": [
    "### Evaluation"
   ]
  },
  {
   "cell_type": "code",
   "execution_count": 8,
   "id": "8b7545c6",
   "metadata": {},
   "outputs": [
    {
     "name": "stdout",
     "output_type": "stream",
     "text": [
      "Error on prediction of average local and interference effects:\n",
      "--------------------------------------------------------------\n",
      "Average local effect (T_bar = 0) = 0.08969\n",
      "Average local effect (T_bar = 1) = 0.08969\n",
      "Average interference effect (T = 0) = 0.24763\n",
      "Average interference effect (T = 1) = 0.24763\n",
      "Average total effect = 0.15793\n"
     ]
    }
   ],
   "source": [
    "y_pred_00 = trainer.predict(neighborhood_size*2+1, direct=False, indirect=False)\n",
    "y_pred_01 = trainer.predict(neighborhood_size*2+1, direct=False, indirect=True)\n",
    "y_pred_10 = trainer.predict(neighborhood_size*2+1, direct=True, indirect=False)\n",
    "y_pred_11 = trainer.predict(neighborhood_size*2+1, direct=True, indirect=True)\n",
    "de_0_pred, de_1_pred = np.mean(y_pred_10 - y_pred_00), np.mean(y_pred_11 - y_pred_01)\n",
    "ie_0_pred, ie_1_pred = np.mean(y_pred_01 - y_pred_00), np.mean(y_pred_11 - y_pred_10)\n",
    "te_pred = np.mean(y_pred_11 - y_pred_00)\n",
    "print(\"Error on prediction of average local and interference effects:\")\n",
    "print(\"--------------------------------------------------------------\")\n",
    "print(f\"Average local effect (T_bar = 0) = {np.abs(de_0_pred - de_0):.5f}\")\n",
    "print(f\"Average local effect (T_bar = 1) = {np.abs(de_1_pred - de_1):.5f}\")\n",
    "print(f\"Average interference effect (T = 0) = {np.abs(ie_0_pred - ie_0):.5f}\")\n",
    "print(f\"Average interference effect (T = 1) = {np.abs(ie_1_pred - ie_1):.5f}\")\n",
    "print(f\"Average total effect = {np.abs(te_pred - te):.5f}\")"
   ]
  },
  {
   "cell_type": "markdown",
   "id": "d7591058",
   "metadata": {},
   "source": [
    "# Model 4: Nonlinear model with U (f: MLP, g: MLP)"
   ]
  },
  {
   "cell_type": "markdown",
   "id": "7fddad9c",
   "metadata": {},
   "source": [
    "### Training"
   ]
  },
  {
   "cell_type": "code",
   "execution_count": null,
   "id": "a169d881",
   "metadata": {},
   "outputs": [],
   "source": [
    "model = NonlinearSCI(\n",
    "    num_interventions=1, \n",
    "    window_size=neighborhood_size*2+1, \n",
    "    confounder_dim=X.shape[1], \n",
    "    f_network_type=\"mlp\", \n",
    "    f_hidden_dims=[64,32], \n",
    "    g_network_type=\"mlp\", \n",
    "    g_hidden_dims=[64,32], \n",
    "    unobserved_confounder=True\n",
    ")\n",
    "\n",
    "# Experimental tracking\n",
    "wandb.init(\n",
    "    project=\"deep_sci\",\n",
    "    name=\"nonlinear_with_U_f_mlp_g_mlp\", \n",
    "    allow_val_change=True\n",
    ")\n",
    "config = wandb.config\n",
    "\n",
    "# Training\n",
    "device = torch.device(\"cuda\" if torch.cuda.is_available() else \"cpu\")\n",
    "optim = \"adam\"\n",
    "optim_params = {\n",
    "    'lr': 1e-3, \n",
    "    # 'momentum': 0.99\n",
    "}\n",
    "epochs, patience = 1000, 50\n",
    "trainer = Trainer(\n",
    "    model=model, \n",
    "    data_generators=dataloaders, \n",
    "    optim=optim, \n",
    "    optim_params=optim_params, \n",
    "    device=device,\n",
    "    epochs=epochs,\n",
    "    patience=patience, \n",
    "    wandb=wandb\n",
    ")\n",
    "trainer.train()"
   ]
  },
  {
   "cell_type": "markdown",
   "id": "819e5f07",
   "metadata": {},
   "source": [
    "### Evaluation"
   ]
  },
  {
   "cell_type": "code",
   "execution_count": 10,
   "id": "c6f1b3d8",
   "metadata": {},
   "outputs": [
    {
     "name": "stdout",
     "output_type": "stream",
     "text": [
      "Error on prediction of average local and interference effects:\n",
      "--------------------------------------------------------------\n",
      "Average local effect (T_bar = 0) = 0.35877\n",
      "Average local effect (T_bar = 1) = 0.35877\n",
      "Average interference effect (T = 0) = 0.13793\n",
      "Average interference effect (T = 1) = 0.13793\n",
      "Average total effect = 0.22084\n"
     ]
    }
   ],
   "source": [
    "y_pred_00 = trainer.predict(neighborhood_size*2+1, direct=False, indirect=False)\n",
    "y_pred_01 = trainer.predict(neighborhood_size*2+1, direct=False, indirect=True)\n",
    "y_pred_10 = trainer.predict(neighborhood_size*2+1, direct=True, indirect=False)\n",
    "y_pred_11 = trainer.predict(neighborhood_size*2+1, direct=True, indirect=True)\n",
    "de_0_pred, de_1_pred = np.mean(y_pred_10 - y_pred_00), np.mean(y_pred_11 - y_pred_01)\n",
    "ie_0_pred, ie_1_pred = np.mean(y_pred_01 - y_pred_00), np.mean(y_pred_11 - y_pred_10)\n",
    "te_pred = np.mean(y_pred_11 - y_pred_00)\n",
    "print(\"Error on prediction of average local and interference effects:\")\n",
    "print(\"--------------------------------------------------------------\")\n",
    "print(f\"Average local effect (T_bar = 0) = {np.abs(de_0_pred - de_0):.5f}\")\n",
    "print(f\"Average local effect (T_bar = 1) = {np.abs(de_1_pred - de_1):.5f}\")\n",
    "print(f\"Average interference effect (T = 0) = {np.abs(ie_0_pred - ie_0):.5f}\")\n",
    "print(f\"Average interference effect (T = 1) = {np.abs(ie_1_pred - ie_1):.5f}\")\n",
    "print(f\"Average total effect = {np.abs(te_pred - te):.5f}\")"
   ]
  },
  {
   "cell_type": "markdown",
   "id": "12c003cd",
   "metadata": {},
   "source": [
    "# Model 5: GCN model without U (f: GCN, g: MLP)"
   ]
  },
  {
   "cell_type": "code",
   "execution_count": 11,
   "id": "62e195b4",
   "metadata": {},
   "outputs": [
    {
     "name": "stderr",
     "output_type": "stream",
     "text": [
      "100%|█████████████████████████████████████| 300/300 [00:00<00:00, 222548.85it/s]\n",
      "100%|█████████████████████████████████████| 100/100 [00:00<00:00, 275397.50it/s]\n",
      "100%|█████████████████████████████████████| 100/100 [00:00<00:00, 213668.06it/s]\n"
     ]
    }
   ],
   "source": [
    "train_dataset, val_dataset, test_dataset = train_val_test_split(\n",
    "    t=[T], x=X, s=s, y=Y, train_size=0.6, val_size=0.2, test_size=0.2, \n",
    "    shuffle=True, random_state=2020, graph_input=True\n",
    ")\n",
    "train_loader = DataLoader(train_dataset, batch_size=1, shuffle=True)\n",
    "val_loader = DataLoader(val_dataset, batch_size=1, shuffle=False)\n",
    "test_loader = DataLoader(test_dataset, batch_size=1, shuffle=False)\n",
    "dataloaders = {'train': train_loader, 'val': val_loader, 'test': test_loader}"
   ]
  },
  {
   "cell_type": "markdown",
   "id": "b0983669-9b74-4000-92d1-8d27179cba15",
   "metadata": {},
   "source": [
    "### Training"
   ]
  },
  {
   "cell_type": "code",
   "execution_count": null,
   "id": "44a53c99-30eb-49a7-8f76-ed203db46db1",
   "metadata": {},
   "outputs": [],
   "source": [
    "model = NonlinearSCI(\n",
    "    num_interventions=1, \n",
    "    window_size=neighborhood_size*2+1, \n",
    "    confounder_dim=X.shape[1], \n",
    "    f_network_type=\"gcn\", \n",
    "    g_network_type=\"mlp\", \n",
    "    g_hidden_dims=[64,32]\n",
    ")\n",
    "\n",
    "# Experimental tracking\n",
    "wandb.init(\n",
    "    project=\"deep_sci\",\n",
    "    name=\"nonlinear_without_U_f_gcn_g_mlp\", \n",
    "    allow_val_change=True\n",
    ")\n",
    "config = wandb.config\n",
    "\n",
    "# Training\n",
    "device = torch.device(\"cuda\" if torch.cuda.is_available() else \"cpu\")\n",
    "optim = \"adam\"\n",
    "optim_params = {\n",
    "    'lr': 1e-4, \n",
    "    # 'momentum': 0.99\n",
    "}\n",
    "epochs, patience = 1000, 50\n",
    "trainer = Trainer(\n",
    "    model=model, \n",
    "    data_generators=dataloaders, \n",
    "    optim=optim, \n",
    "    optim_params=optim_params, \n",
    "    device=device,\n",
    "    epochs=epochs,\n",
    "    patience=patience, \n",
    "    wandb=wandb\n",
    ")\n",
    "trainer.train()"
   ]
  },
  {
   "cell_type": "markdown",
   "id": "362068b0-3d02-453f-bd8c-dd8d553b05a4",
   "metadata": {},
   "source": [
    "### Evaluation"
   ]
  },
  {
   "cell_type": "code",
   "execution_count": 13,
   "id": "7b5cd5b7-532c-4f53-856b-9506020314f4",
   "metadata": {},
   "outputs": [
    {
     "name": "stdout",
     "output_type": "stream",
     "text": [
      "Error on prediction of average local and interference effects:\n",
      "--------------------------------------------------------------\n",
      "Average local effect (T_bar = 0) = 0.59919\n",
      "Average local effect (T_bar = 1) = 0.59919\n",
      "Average interference effect (T = 0) = 0.21057\n",
      "Average interference effect (T = 1) = 0.21057\n",
      "Average total effect = 0.38862\n"
     ]
    }
   ],
   "source": [
    "y_pred_00 = trainer.predict(neighborhood_size*2+1, direct=False, indirect=False)\n",
    "y_pred_01 = trainer.predict(neighborhood_size*2+1, direct=False, indirect=True)\n",
    "y_pred_10 = trainer.predict(neighborhood_size*2+1, direct=True, indirect=False)\n",
    "y_pred_11 = trainer.predict(neighborhood_size*2+1, direct=True, indirect=True)\n",
    "de_0_pred, de_1_pred = np.mean(y_pred_10 - y_pred_00), np.mean(y_pred_11 - y_pred_01)\n",
    "ie_0_pred, ie_1_pred = np.mean(y_pred_01 - y_pred_00), np.mean(y_pred_11 - y_pred_10)\n",
    "te_pred = np.mean(y_pred_11 - y_pred_00)\n",
    "print(\"Error on prediction of average local and interference effects:\")\n",
    "print(\"--------------------------------------------------------------\")\n",
    "print(f\"Average local effect (T_bar = 0) = {np.abs(de_0_pred - de_0):.5f}\")\n",
    "print(f\"Average local effect (T_bar = 1) = {np.abs(de_1_pred - de_1):.5f}\")\n",
    "print(f\"Average interference effect (T = 0) = {np.abs(ie_0_pred - ie_0):.5f}\")\n",
    "print(f\"Average interference effect (T = 1) = {np.abs(ie_1_pred - ie_1):.5f}\")\n",
    "print(f\"Average total effect = {np.abs(te_pred - te):.5f}\")"
   ]
  },
  {
   "cell_type": "markdown",
   "id": "f7f2c27d-2ad0-4c29-8bb7-44d46076000a",
   "metadata": {},
   "source": [
    "# Model 6: GCN model with U (f: GCN, g: MLP)"
   ]
  },
  {
   "cell_type": "markdown",
   "id": "40e3613c-6f1c-4da2-b615-eac9433a67f9",
   "metadata": {},
   "source": [
    "### Training"
   ]
  },
  {
   "cell_type": "code",
   "execution_count": null,
   "id": "8b7d2e59-8c3e-4f6a-ae8c-0da890fc2419",
   "metadata": {},
   "outputs": [],
   "source": [
    "model = NonlinearSCI(\n",
    "    num_interventions=1, \n",
    "    window_size=neighborhood_size*2+1, \n",
    "    confounder_dim=X.shape[1], \n",
    "    f_network_type=\"gcn\", \n",
    "    g_network_type=\"mlp\", \n",
    "    g_hidden_dims=[64,32], \n",
    "    unobserved_confounder=True\n",
    ")\n",
    "\n",
    "# Experimental tracking\n",
    "wandb.init(\n",
    "    project=\"deep_sci\",\n",
    "    name=\"nonlinear_with_U_f_gcn_g_mlp\", \n",
    "    allow_val_change=True\n",
    ")\n",
    "config = wandb.config\n",
    "\n",
    "# Training\n",
    "device = torch.device(\"cuda\" if torch.cuda.is_available() else \"cpu\")\n",
    "optim = \"adam\"\n",
    "optim_params = {\n",
    "    'lr': 1e-4, \n",
    "    # 'momentum': 0.99\n",
    "}\n",
    "epochs, patience = 1000, 50\n",
    "trainer = Trainer(\n",
    "    model=model, \n",
    "    data_generators=dataloaders, \n",
    "    optim=optim, \n",
    "    optim_params=optim_params, \n",
    "    device=device,\n",
    "    epochs=epochs,\n",
    "    patience=patience, \n",
    "    wandb=wandb\n",
    ")\n",
    "trainer.train()"
   ]
  },
  {
   "cell_type": "markdown",
   "id": "bd4f0275-750d-40d4-8d78-0210b3e31916",
   "metadata": {},
   "source": [
    "### Evaluation"
   ]
  },
  {
   "cell_type": "code",
   "execution_count": 15,
   "id": "1e38a7d3-ab5a-4767-9fa7-45625d7241b4",
   "metadata": {},
   "outputs": [
    {
     "name": "stdout",
     "output_type": "stream",
     "text": [
      "Error on prediction of average local and interference effects:\n",
      "--------------------------------------------------------------\n",
      "Average local effect (T_bar = 0) = 0.11228\n",
      "Average local effect (T_bar = 1) = 0.11228\n",
      "Average interference effect (T = 0) = 0.11959\n",
      "Average interference effect (T = 1) = 0.11959\n",
      "Average total effect = 0.23187\n"
     ]
    }
   ],
   "source": [
    "y_pred_00 = trainer.predict(neighborhood_size*2+1, direct=False, indirect=False)\n",
    "y_pred_01 = trainer.predict(neighborhood_size*2+1, direct=False, indirect=True)\n",
    "y_pred_10 = trainer.predict(neighborhood_size*2+1, direct=True, indirect=False)\n",
    "y_pred_11 = trainer.predict(neighborhood_size*2+1, direct=True, indirect=True)\n",
    "de_0_pred, de_1_pred = np.mean(y_pred_10 - y_pred_00), np.mean(y_pred_11 - y_pred_01)\n",
    "ie_0_pred, ie_1_pred = np.mean(y_pred_01 - y_pred_00), np.mean(y_pred_11 - y_pred_10)\n",
    "te_pred = np.mean(y_pred_11 - y_pred_00)\n",
    "print(\"Error on prediction of average local and interference effects:\")\n",
    "print(\"--------------------------------------------------------------\")\n",
    "print(f\"Average local effect (T_bar = 0) = {np.abs(de_0_pred - de_0):.5f}\")\n",
    "print(f\"Average local effect (T_bar = 1) = {np.abs(de_1_pred - de_1):.5f}\")\n",
    "print(f\"Average interference effect (T = 0) = {np.abs(ie_0_pred - ie_0):.5f}\")\n",
    "print(f\"Average interference effect (T = 1) = {np.abs(ie_1_pred - ie_1):.5f}\")\n",
    "print(f\"Average total effect = {np.abs(te_pred - te):.5f}\")"
   ]
  }
 ],
 "metadata": {
  "kernelspec": {
   "display_name": "Python 3 (ipykernel)",
   "language": "python",
   "name": "python3"
  },
  "language_info": {
   "codemirror_mode": {
    "name": "ipython",
    "version": 3
   },
   "file_extension": ".py",
   "mimetype": "text/x-python",
   "name": "python",
   "nbconvert_exporter": "python",
   "pygments_lexer": "ipython3",
   "version": "3.12.0"
  }
 },
 "nbformat": 4,
 "nbformat_minor": 5
}
