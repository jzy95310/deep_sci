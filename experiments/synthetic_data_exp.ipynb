{
 "cells": [
  {
   "cell_type": "code",
   "execution_count": 1,
   "id": "01b93a91",
   "metadata": {},
   "outputs": [
    {
     "name": "stderr",
     "output_type": "stream",
     "text": [
      "\u001b[34m\u001b[1mwandb\u001b[0m: Currently logged in as: \u001b[33mziyang-jiang\u001b[0m (\u001b[33mcarlsonlab\u001b[0m). Use \u001b[1m`wandb login --relogin`\u001b[0m to force relogin\n"
     ]
    }
   ],
   "source": [
    "import torch\n",
    "import sys\n",
    "sys.path.insert(0, '../src')\n",
    "import wandb\n",
    "import pickle as pkl\n",
    "import numpy as np\n",
    "from tqdm.notebook import tqdm\n",
    "from torch.utils.data import DataLoader\n",
    "\n",
    "from data_generator import SpatialDataset, train_val_test_split\n",
    "from models import LinearSCI, NonlinearSCI\n",
    "from trainers import Trainer\n",
    "\n",
    "# Experimental tracking\n",
    "wandb.login()\n",
    "\n",
    "np.random.seed(2023)\n",
    "torch.manual_seed(2023)\n",
    "torch.cuda.manual_seed(2023)\n",
    "torch.cuda.manual_seed_all(2023)\n",
    "torch.backends.cudnn.deterministic = True"
   ]
  },
  {
   "cell_type": "markdown",
   "id": "8b8ec598",
   "metadata": {},
   "source": [
    "# Load data"
   ]
  },
  {
   "cell_type": "code",
   "execution_count": 2,
   "id": "c22746a9",
   "metadata": {},
   "outputs": [],
   "source": [
    "with open('../data/synthetic_data.pkl', 'rb') as fp:\n",
    "    data = pkl.load(fp)\n",
    "neighborhood_size = data['neighborhood_size']\n",
    "T = np.concatenate(\n",
    "    [data['T_bar'][:,:neighborhood_size], \n",
    "     data['T'], \n",
    "     data['T_bar'][:,neighborhood_size:]], axis=1)\n",
    "X, Y, s = data['X'], data['Y'], data['s']\n",
    "de_0, de_1, ie_0, ie_1, te = data['de_0'], data['de_1'], data['ie_0'], data['ie_1'], data['te']\n",
    "\n",
    "train_dataset, val_dataset, test_dataset = train_val_test_split(\n",
    "    t=[T], x=X, s=s, y=Y, train_size=0.6, val_size=0.2, test_size=0.2, \n",
    "    shuffle=True, random_state=2020\n",
    ")\n",
    "train_loader = DataLoader(train_dataset, batch_size=50, shuffle=True)\n",
    "val_loader = DataLoader(val_dataset, batch_size=50, shuffle=False)\n",
    "test_loader = DataLoader(test_dataset, batch_size=50, shuffle=False)\n",
    "dataloaders = {'train': train_loader, 'val': val_loader, 'test': test_loader}"
   ]
  },
  {
   "cell_type": "markdown",
   "id": "f030ccd5",
   "metadata": {},
   "source": [
    "# Method 1: Linear model without U"
   ]
  },
  {
   "cell_type": "code",
   "execution_count": null,
   "id": "e6e2d42f",
   "metadata": {},
   "outputs": [],
   "source": [
    "num_iterations = 5\n",
    "de_error_0, de_error_1, ie_error_0, ie_error_1, te_error = [], [], [], [], []\n",
    "\n",
    "for _ in tqdm(range(num_iterations), position=0, leave=True):\n",
    "    model = LinearSCI(\n",
    "        num_interventions=1, \n",
    "        window_size=neighborhood_size*2+1, \n",
    "        confounder_dim=X.shape[1]\n",
    "    )\n",
    "    \n",
    "    # Training\n",
    "    device = torch.device(\"cuda\" if torch.cuda.is_available() else \"cpu\")\n",
    "    optim = \"sgd\"\n",
    "    optim_params = {\n",
    "        'lr': 1e-3, \n",
    "        'momentum': 0.99\n",
    "    }\n",
    "    epochs, patience = 1000, 50\n",
    "    trainer = Trainer(\n",
    "        model=model, \n",
    "        data_generators=dataloaders, \n",
    "        optim=optim, \n",
    "        optim_params=optim_params, \n",
    "        device=device,\n",
    "        epochs=epochs,\n",
    "        patience=patience\n",
    "    )\n",
    "    trainer.train()\n",
    "\n",
    "    # Evaluation\n",
    "    y_pred_00 = trainer.predict(neighborhood_size*2+1, direct=False, indirect=False)\n",
    "    y_pred_01 = trainer.predict(neighborhood_size*2+1, direct=False, indirect=True)\n",
    "    y_pred_10 = trainer.predict(neighborhood_size*2+1, direct=True, indirect=False)\n",
    "    y_pred_11 = trainer.predict(neighborhood_size*2+1, direct=True, indirect=True)\n",
    "    de_0_pred, de_1_pred = np.mean(y_pred_10 - y_pred_00), np.mean(y_pred_11 - y_pred_01)\n",
    "    ie_0_pred, ie_1_pred = np.mean(y_pred_01 - y_pred_00), np.mean(y_pred_11 - y_pred_10)\n",
    "    te_pred = np.mean(y_pred_11 - y_pred_00)\n",
    "    de_error_0.append(np.abs(de_0_pred - de_0))\n",
    "    de_error_1.append(np.abs(de_1_pred - de_1))\n",
    "    ie_error_0.append(np.abs(ie_0_pred - ie_0))\n",
    "    ie_error_1.append(np.abs(ie_1_pred - ie_1))\n",
    "    te_error.append(np.abs(te_pred - te))"
   ]
  },
  {
   "cell_type": "code",
   "execution_count": 4,
   "id": "4625ec95-141c-48cf-8a82-675b1904972b",
   "metadata": {},
   "outputs": [
    {
     "name": "stdout",
     "output_type": "stream",
     "text": [
      "Error on prediction of average local and interference effects:\n",
      "--------------------------------------------------------------\n",
      "Average direct effect (T_bar = 0) = 1.01948 +/- 1.03605\n",
      "Average direct effect (T_bar = 1) = 1.01948 +/- 1.03605\n",
      "Average indirect effect (T = 0) = 0.79898 +/- 1.03110\n",
      "Average indirect effect (T = 1) = 0.79898 +/- 1.03110\n",
      "Average total effect = 0.22774 +/- 0.00336\n"
     ]
    }
   ],
   "source": [
    "print(\"Error on prediction of average local and interference effects:\")\n",
    "print(\"--------------------------------------------------------------\")\n",
    "print(f\"Average direct effect (T_bar = 0) = {np.mean(de_error_0):.5f} +/- {np.std(de_error_0):.5f}\")\n",
    "print(f\"Average direct effect (T_bar = 1) = {np.mean(de_error_1):.5f} +/- {np.std(de_error_1):.5f}\")\n",
    "print(f\"Average indirect effect (T = 0) = {np.mean(ie_error_0):.5f} +/- {np.std(ie_error_0):.5f}\")\n",
    "print(f\"Average indirect effect (T = 1) = {np.mean(ie_error_1):.5f} +/- {np.std(ie_error_1):.5f}\")\n",
    "print(f\"Average total effect = {np.mean(te_error):.5f} +/- {np.std(te_error):.5f}\")"
   ]
  },
  {
   "cell_type": "markdown",
   "id": "0ed40a31",
   "metadata": {},
   "source": [
    "# Model 2: Linear model with U"
   ]
  },
  {
   "cell_type": "code",
   "execution_count": null,
   "id": "9ba41c83",
   "metadata": {},
   "outputs": [],
   "source": [
    "num_iterations = 5\n",
    "de_error_0, de_error_1, ie_error_0, ie_error_1, te_error = [], [], [], [], []\n",
    "\n",
    "for _ in tqdm(range(num_iterations), position=0, leave=True):\n",
    "    model = LinearSCI(\n",
    "        num_interventions=1, \n",
    "        window_size=neighborhood_size*2+1, \n",
    "        confounder_dim=X.shape[1], \n",
    "        unobserved_confounder=True, \n",
    "        kernel_param_vals=[1.,0.5,0.1]\n",
    "    )\n",
    "    \n",
    "    # Training\n",
    "    device = torch.device(\"cuda\" if torch.cuda.is_available() else \"cpu\")\n",
    "    optim = \"adam\"\n",
    "    optim_params = {\n",
    "        'lr': 1e-3, \n",
    "        # 'momentum': 0.99\n",
    "    }\n",
    "    epochs, patience = 1000, 50\n",
    "    trainer = Trainer(\n",
    "        model=model, \n",
    "        data_generators=dataloaders, \n",
    "        optim=optim, \n",
    "        optim_params=optim_params, \n",
    "        device=device,\n",
    "        epochs=epochs,\n",
    "        patience=patience\n",
    "    )\n",
    "    trainer.train()\n",
    "\n",
    "    # Evaluation\n",
    "    y_pred_00 = trainer.predict(neighborhood_size*2+1, direct=False, indirect=False)\n",
    "    y_pred_01 = trainer.predict(neighborhood_size*2+1, direct=False, indirect=True)\n",
    "    y_pred_10 = trainer.predict(neighborhood_size*2+1, direct=True, indirect=False)\n",
    "    y_pred_11 = trainer.predict(neighborhood_size*2+1, direct=True, indirect=True)\n",
    "    de_0_pred, de_1_pred = np.mean(y_pred_10 - y_pred_00), np.mean(y_pred_11 - y_pred_01)\n",
    "    ie_0_pred, ie_1_pred = np.mean(y_pred_01 - y_pred_00), np.mean(y_pred_11 - y_pred_10)\n",
    "    te_pred = np.mean(y_pred_11 - y_pred_00)\n",
    "    de_error_0.append(np.abs(de_0_pred - de_0))\n",
    "    de_error_1.append(np.abs(de_1_pred - de_1))\n",
    "    ie_error_0.append(np.abs(ie_0_pred - ie_0))\n",
    "    ie_error_1.append(np.abs(ie_1_pred - ie_1))\n",
    "    te_error.append(np.abs(te_pred - te))"
   ]
  },
  {
   "cell_type": "code",
   "execution_count": 7,
   "id": "df443110-7168-4c2c-b8d1-6dc4e75b82f6",
   "metadata": {},
   "outputs": [
    {
     "name": "stdout",
     "output_type": "stream",
     "text": [
      "Error on prediction of average local and interference effects:\n",
      "--------------------------------------------------------------\n",
      "Average direct effect (T_bar = 0) = 0.62597 +/- 0.53641\n",
      "Average direct effect (T_bar = 1) = 0.62597 +/- 0.53641\n",
      "Average indirect effect (T = 0) = 0.25645 +/- 0.18804\n",
      "Average indirect effect (T = 1) = 0.25645 +/- 0.18804\n",
      "Average total effect = 0.46593 +/- 0.30781\n"
     ]
    }
   ],
   "source": [
    "print(\"Error on prediction of average local and interference effects:\")\n",
    "print(\"--------------------------------------------------------------\")\n",
    "print(f\"Average direct effect (T_bar = 0) = {np.mean(de_error_0):.5f} +/- {np.std(de_error_0):.5f}\")\n",
    "print(f\"Average direct effect (T_bar = 1) = {np.mean(de_error_1):.5f} +/- {np.std(de_error_1):.5f}\")\n",
    "print(f\"Average indirect effect (T = 0) = {np.mean(ie_error_0):.5f} +/- {np.std(ie_error_0):.5f}\")\n",
    "print(f\"Average indirect effect (T = 1) = {np.mean(ie_error_1):.5f} +/- {np.std(ie_error_1):.5f}\")\n",
    "print(f\"Average total effect = {np.mean(te_error):.5f} +/- {np.std(te_error):.5f}\")"
   ]
  },
  {
   "cell_type": "markdown",
   "id": "de48a756",
   "metadata": {},
   "source": [
    "# Model 3: Nonlinear model without U (f: MLP, g:MLP)"
   ]
  },
  {
   "cell_type": "code",
   "execution_count": null,
   "id": "cde97382",
   "metadata": {},
   "outputs": [],
   "source": [
    "num_iterations = 5\n",
    "de_error_0, de_error_1, ie_error_0, ie_error_1, te_error = [], [], [], [], []\n",
    "\n",
    "for _ in tqdm(range(num_iterations), position=0, leave=True):\n",
    "    model = NonlinearSCI(\n",
    "        num_interventions=1, \n",
    "        window_size=neighborhood_size*2+1, \n",
    "        confounder_dim=X.shape[1], \n",
    "        f_network_type=\"mlp\", \n",
    "        f_hidden_dims=[64,32], \n",
    "        g_network_type=\"mlp\", \n",
    "        g_hidden_dims=[64,32]\n",
    "    )\n",
    "    \n",
    "    # Training\n",
    "    device = torch.device(\"cuda\" if torch.cuda.is_available() else \"cpu\")\n",
    "    optim = \"sgd\"\n",
    "    optim_params = {\n",
    "        'lr': 1e-3, \n",
    "        'momentum': 0.99\n",
    "    }\n",
    "    epochs, patience = 1000, 50\n",
    "    trainer = Trainer(\n",
    "        model=model, \n",
    "        data_generators=dataloaders, \n",
    "        optim=optim, \n",
    "        optim_params=optim_params, \n",
    "        device=device,\n",
    "        epochs=epochs,\n",
    "        patience=patience\n",
    "    )\n",
    "    trainer.train()\n",
    "\n",
    "    # Evaluation\n",
    "    y_pred_00 = trainer.predict(neighborhood_size*2+1, direct=False, indirect=False)\n",
    "    y_pred_01 = trainer.predict(neighborhood_size*2+1, direct=False, indirect=True)\n",
    "    y_pred_10 = trainer.predict(neighborhood_size*2+1, direct=True, indirect=False)\n",
    "    y_pred_11 = trainer.predict(neighborhood_size*2+1, direct=True, indirect=True)\n",
    "    de_0_pred, de_1_pred = np.mean(y_pred_10 - y_pred_00), np.mean(y_pred_11 - y_pred_01)\n",
    "    ie_0_pred, ie_1_pred = np.mean(y_pred_01 - y_pred_00), np.mean(y_pred_11 - y_pred_10)\n",
    "    te_pred = np.mean(y_pred_11 - y_pred_00)\n",
    "    de_error_0.append(np.abs(de_0_pred - de_0))\n",
    "    de_error_1.append(np.abs(de_1_pred - de_1))\n",
    "    ie_error_0.append(np.abs(ie_0_pred - ie_0))\n",
    "    ie_error_1.append(np.abs(ie_1_pred - ie_1))\n",
    "    te_error.append(np.abs(te_pred - te))"
   ]
  },
  {
   "cell_type": "code",
   "execution_count": 9,
   "id": "0aa85a24-0b65-4204-b7d9-b21813070a7d",
   "metadata": {},
   "outputs": [
    {
     "name": "stdout",
     "output_type": "stream",
     "text": [
      "Error on prediction of average local and interference effects:\n",
      "--------------------------------------------------------------\n",
      "Average direct effect (T_bar = 0) = 0.24465 +/- 0.17476\n",
      "Average direct effect (T_bar = 1) = 0.24465 +/- 0.17476\n",
      "Average indirect effect (T = 0) = 0.01251 +/- 0.01698\n",
      "Average indirect effect (T = 1) = 0.01251 +/- 0.01698\n",
      "Average total effect = 0.25445 +/- 0.18840\n"
     ]
    }
   ],
   "source": [
    "print(\"Error on prediction of average local and interference effects:\")\n",
    "print(\"--------------------------------------------------------------\")\n",
    "print(f\"Average direct effect (T_bar = 0) = {np.mean(de_error_0):.5f} +/- {np.std(de_error_0):.5f}\")\n",
    "print(f\"Average direct effect (T_bar = 1) = {np.mean(de_error_1):.5f} +/- {np.std(de_error_1):.5f}\")\n",
    "print(f\"Average indirect effect (T = 0) = {np.mean(ie_error_0):.5f} +/- {np.std(ie_error_0):.5f}\")\n",
    "print(f\"Average indirect effect (T = 1) = {np.mean(ie_error_1):.5f} +/- {np.std(ie_error_1):.5f}\")\n",
    "print(f\"Average total effect = {np.mean(te_error):.5f} +/- {np.std(te_error):.5f}\")"
   ]
  },
  {
   "cell_type": "markdown",
   "id": "d7591058",
   "metadata": {},
   "source": [
    "# Model 4: Nonlinear model with U (f: MLP, g: MLP)"
   ]
  },
  {
   "cell_type": "code",
   "execution_count": null,
   "id": "a169d881",
   "metadata": {},
   "outputs": [],
   "source": [
    "num_iterations = 5\n",
    "de_error_0, de_error_1, ie_error_0, ie_error_1, te_error = [], [], [], [], []\n",
    "\n",
    "for _ in tqdm(range(num_iterations), position=0, leave=True):\n",
    "    model = NonlinearSCI(\n",
    "        num_interventions=1, \n",
    "        window_size=neighborhood_size*2+1, \n",
    "        confounder_dim=X.shape[1], \n",
    "        f_network_type=\"mlp\", \n",
    "        f_hidden_dims=[64,32], \n",
    "        g_network_type=\"mlp\", \n",
    "        g_hidden_dims=[64,32], \n",
    "        unobserved_confounder=True, \n",
    "        kernel_param_vals=[1.,0.5,0.1]\n",
    "    )\n",
    "    \n",
    "    # Training\n",
    "    device = torch.device(\"cuda\" if torch.cuda.is_available() else \"cpu\")\n",
    "    optim = \"adam\"\n",
    "    optim_params = {\n",
    "        'lr': 1e-3, \n",
    "        # 'momentum': 0.99\n",
    "    }\n",
    "    epochs, patience = 1000, 50\n",
    "    trainer = Trainer(\n",
    "        model=model, \n",
    "        data_generators=dataloaders, \n",
    "        optim=optim, \n",
    "        optim_params=optim_params, \n",
    "        device=device,\n",
    "        epochs=epochs,\n",
    "        patience=patience\n",
    "    )\n",
    "    trainer.train()\n",
    "\n",
    "    # Evaluation\n",
    "    y_pred_00 = trainer.predict(neighborhood_size*2+1, direct=False, indirect=False)\n",
    "    y_pred_01 = trainer.predict(neighborhood_size*2+1, direct=False, indirect=True)\n",
    "    y_pred_10 = trainer.predict(neighborhood_size*2+1, direct=True, indirect=False)\n",
    "    y_pred_11 = trainer.predict(neighborhood_size*2+1, direct=True, indirect=True)\n",
    "    de_0_pred, de_1_pred = np.mean(y_pred_10 - y_pred_00), np.mean(y_pred_11 - y_pred_01)\n",
    "    ie_0_pred, ie_1_pred = np.mean(y_pred_01 - y_pred_00), np.mean(y_pred_11 - y_pred_10)\n",
    "    te_pred = np.mean(y_pred_11 - y_pred_00)\n",
    "    de_error_0.append(np.abs(de_0_pred - de_0))\n",
    "    de_error_1.append(np.abs(de_1_pred - de_1))\n",
    "    ie_error_0.append(np.abs(ie_0_pred - ie_0))\n",
    "    ie_error_1.append(np.abs(ie_1_pred - ie_1))\n",
    "    te_error.append(np.abs(te_pred - te))"
   ]
  },
  {
   "cell_type": "code",
   "execution_count": 11,
   "id": "d85c6635-eb66-42c3-b584-6e04cbad9b22",
   "metadata": {},
   "outputs": [
    {
     "name": "stdout",
     "output_type": "stream",
     "text": [
      "Error on prediction of average local and interference effects:\n",
      "--------------------------------------------------------------\n",
      "Average direct effect (T_bar = 0) = 0.18627 +/- 0.17602\n",
      "Average direct effect (T_bar = 1) = 0.18627 +/- 0.17602\n",
      "Average indirect effect (T = 0) = 0.25104 +/- 0.08557\n",
      "Average indirect effect (T = 1) = 0.25104 +/- 0.08557\n",
      "Average total effect = 0.24088 +/- 0.13501\n"
     ]
    }
   ],
   "source": [
    "print(\"Error on prediction of average local and interference effects:\")\n",
    "print(\"--------------------------------------------------------------\")\n",
    "print(f\"Average direct effect (T_bar = 0) = {np.mean(de_error_0):.5f} +/- {np.std(de_error_0):.5f}\")\n",
    "print(f\"Average direct effect (T_bar = 1) = {np.mean(de_error_1):.5f} +/- {np.std(de_error_1):.5f}\")\n",
    "print(f\"Average indirect effect (T = 0) = {np.mean(ie_error_0):.5f} +/- {np.std(ie_error_0):.5f}\")\n",
    "print(f\"Average indirect effect (T = 1) = {np.mean(ie_error_1):.5f} +/- {np.std(ie_error_1):.5f}\")\n",
    "print(f\"Average total effect = {np.mean(te_error):.5f} +/- {np.std(te_error):.5f}\")"
   ]
  },
  {
   "cell_type": "markdown",
   "id": "12c003cd",
   "metadata": {},
   "source": [
    "# Model 5: GCN model without U (f: GCN, g: MLP)"
   ]
  },
  {
   "cell_type": "code",
   "execution_count": 12,
   "id": "62e195b4",
   "metadata": {},
   "outputs": [
    {
     "name": "stderr",
     "output_type": "stream",
     "text": [
      "100%|█████████████████████████████████████| 300/300 [00:00<00:00, 227621.42it/s]\n",
      "100%|█████████████████████████████████████| 100/100 [00:00<00:00, 147686.76it/s]\n",
      "100%|█████████████████████████████████████| 100/100 [00:00<00:00, 346350.45it/s]\n"
     ]
    }
   ],
   "source": [
    "train_dataset, val_dataset, test_dataset = train_val_test_split(\n",
    "    t=[T], x=X, s=s, y=Y, train_size=0.6, val_size=0.2, test_size=0.2, \n",
    "    shuffle=True, random_state=2020, graph_input=True\n",
    ")\n",
    "train_loader = DataLoader(train_dataset, batch_size=1, shuffle=True)\n",
    "val_loader = DataLoader(val_dataset, batch_size=1, shuffle=False)\n",
    "test_loader = DataLoader(test_dataset, batch_size=1, shuffle=False)\n",
    "dataloaders = {'train': train_loader, 'val': val_loader, 'test': test_loader}"
   ]
  },
  {
   "cell_type": "code",
   "execution_count": null,
   "id": "44a53c99-30eb-49a7-8f76-ed203db46db1",
   "metadata": {},
   "outputs": [],
   "source": [
    "num_iterations = 5\n",
    "de_error_0, de_error_1, ie_error_0, ie_error_1, te_error = [], [], [], [], []\n",
    "\n",
    "for _ in tqdm(range(num_iterations), position=0, leave=True):\n",
    "    model = NonlinearSCI(\n",
    "        num_interventions=1, \n",
    "        window_size=neighborhood_size*2+1, \n",
    "        confounder_dim=X.shape[1], \n",
    "        f_network_type=\"gcn\", \n",
    "        g_network_type=\"mlp\", \n",
    "        g_hidden_dims=[64,32]\n",
    "    )\n",
    "    \n",
    "    # Training\n",
    "    device = torch.device(\"cuda\" if torch.cuda.is_available() else \"cpu\")\n",
    "    optim = \"sgd\"\n",
    "    optim_params = {\n",
    "        'lr': 1e-3, \n",
    "        'momentum': 0.99\n",
    "    }\n",
    "    epochs, patience = 1000, 50\n",
    "    trainer = Trainer(\n",
    "        model=model, \n",
    "        data_generators=dataloaders, \n",
    "        optim=optim, \n",
    "        optim_params=optim_params, \n",
    "        device=device,\n",
    "        epochs=epochs,\n",
    "        patience=patience\n",
    "    )\n",
    "    trainer.train()\n",
    "\n",
    "    # Evaluation\n",
    "    y_pred_00 = trainer.predict(neighborhood_size*2+1, direct=False, indirect=False)\n",
    "    y_pred_01 = trainer.predict(neighborhood_size*2+1, direct=False, indirect=True)\n",
    "    y_pred_10 = trainer.predict(neighborhood_size*2+1, direct=True, indirect=False)\n",
    "    y_pred_11 = trainer.predict(neighborhood_size*2+1, direct=True, indirect=True)\n",
    "    de_0_pred, de_1_pred = np.mean(y_pred_10 - y_pred_00), np.mean(y_pred_11 - y_pred_01)\n",
    "    ie_0_pred, ie_1_pred = np.mean(y_pred_01 - y_pred_00), np.mean(y_pred_11 - y_pred_10)\n",
    "    te_pred = np.mean(y_pred_11 - y_pred_00)\n",
    "    de_error_0.append(np.abs(de_0_pred - de_0))\n",
    "    de_error_1.append(np.abs(de_1_pred - de_1))\n",
    "    ie_error_0.append(np.abs(ie_0_pred - ie_0))\n",
    "    ie_error_1.append(np.abs(ie_1_pred - ie_1))\n",
    "    te_error.append(np.abs(te_pred - te))"
   ]
  },
  {
   "cell_type": "code",
   "execution_count": 14,
   "id": "daa8b363-b786-48f3-a48d-1f063f544102",
   "metadata": {},
   "outputs": [
    {
     "name": "stdout",
     "output_type": "stream",
     "text": [
      "Error on prediction of average local and interference effects:\n",
      "--------------------------------------------------------------\n",
      "Average direct effect (T_bar = 0) = 1.02778 +/- 0.13583\n",
      "Average direct effect (T_bar = 1) = 1.03302 +/- 0.08752\n",
      "Average indirect effect (T = 0) = 0.04588 +/- 0.03320\n",
      "Average indirect effect (T = 1) = 0.05374 +/- 0.03742\n",
      "Average total effect = 1.07890 +/- 0.10665\n"
     ]
    }
   ],
   "source": [
    "print(\"Error on prediction of average local and interference effects:\")\n",
    "print(\"--------------------------------------------------------------\")\n",
    "print(f\"Average direct effect (T_bar = 0) = {np.mean(de_error_0):.5f} +/- {np.std(de_error_0):.5f}\")\n",
    "print(f\"Average direct effect (T_bar = 1) = {np.mean(de_error_1):.5f} +/- {np.std(de_error_1):.5f}\")\n",
    "print(f\"Average indirect effect (T = 0) = {np.mean(ie_error_0):.5f} +/- {np.std(ie_error_0):.5f}\")\n",
    "print(f\"Average indirect effect (T = 1) = {np.mean(ie_error_1):.5f} +/- {np.std(ie_error_1):.5f}\")\n",
    "print(f\"Average total effect = {np.mean(te_error):.5f} +/- {np.std(te_error):.5f}\")"
   ]
  },
  {
   "cell_type": "markdown",
   "id": "f7f2c27d-2ad0-4c29-8bb7-44d46076000a",
   "metadata": {},
   "source": [
    "# Model 6: GCN model with U (f: GCN, g: MLP)"
   ]
  },
  {
   "cell_type": "code",
   "execution_count": null,
   "id": "8b7d2e59-8c3e-4f6a-ae8c-0da890fc2419",
   "metadata": {},
   "outputs": [],
   "source": [
    "num_iterations = 5\n",
    "de_error_0, de_error_1, ie_error_0, ie_error_1, te_error = [], [], [], [], []\n",
    "\n",
    "for _ in tqdm(range(num_iterations), position=0, leave=True):\n",
    "    model = NonlinearSCI(\n",
    "        num_interventions=1, \n",
    "        window_size=neighborhood_size*2+1, \n",
    "        confounder_dim=X.shape[1], \n",
    "        f_network_type=\"gcn\", \n",
    "        g_network_type=\"mlp\", \n",
    "        g_hidden_dims=[64,32], \n",
    "        unobserved_confounder=True, \n",
    "        kernel_param_vals=[1.,0.5,0.1]\n",
    "    )\n",
    "    \n",
    "    # Training\n",
    "    device = torch.device(\"cuda\" if torch.cuda.is_available() else \"cpu\")\n",
    "    optim = \"adam\"\n",
    "    optim_params = {\n",
    "        'lr': 1e-3, \n",
    "        # 'momentum': 0.99\n",
    "    }\n",
    "    epochs, patience = 1000, 50\n",
    "    trainer = Trainer(\n",
    "        model=model, \n",
    "        data_generators=dataloaders, \n",
    "        optim=optim, \n",
    "        optim_params=optim_params, \n",
    "        device=device,\n",
    "        epochs=epochs,\n",
    "        patience=patience\n",
    "    )\n",
    "    trainer.train()\n",
    "\n",
    "    # Evaluation\n",
    "    y_pred_00 = trainer.predict(neighborhood_size*2+1, direct=False, indirect=False)\n",
    "    y_pred_01 = trainer.predict(neighborhood_size*2+1, direct=False, indirect=True)\n",
    "    y_pred_10 = trainer.predict(neighborhood_size*2+1, direct=True, indirect=False)\n",
    "    y_pred_11 = trainer.predict(neighborhood_size*2+1, direct=True, indirect=True)\n",
    "    de_0_pred, de_1_pred = np.mean(y_pred_10 - y_pred_00), np.mean(y_pred_11 - y_pred_01)\n",
    "    ie_0_pred, ie_1_pred = np.mean(y_pred_01 - y_pred_00), np.mean(y_pred_11 - y_pred_10)\n",
    "    te_pred = np.mean(y_pred_11 - y_pred_00)\n",
    "    de_error_0.append(np.abs(de_0_pred - de_0))\n",
    "    de_error_1.append(np.abs(de_1_pred - de_1))\n",
    "    ie_error_0.append(np.abs(ie_0_pred - ie_0))\n",
    "    ie_error_1.append(np.abs(ie_1_pred - ie_1))\n",
    "    te_error.append(np.abs(te_pred - te))"
   ]
  },
  {
   "cell_type": "code",
   "execution_count": 15,
   "id": "658136aa-f83e-462c-bd42-ea566584d656",
   "metadata": {},
   "outputs": [
    {
     "name": "stdout",
     "output_type": "stream",
     "text": [
      "Error on prediction of average local and interference effects:\n",
      "--------------------------------------------------------------\n",
      "Average direct effect (T_bar = 0) = 0.80446 +/- 0.66531\n",
      "Average direct effect (T_bar = 1) = 1.03512 +/- 0.94692\n",
      "Average indirect effect (T = 0) = 0.14094 +/- 0.07259\n",
      "Average indirect effect (T = 1) = 0.34441 +/- 0.17961\n",
      "Average total effect = 1.01789 +/- 0.88741\n"
     ]
    }
   ],
   "source": [
    "print(\"Error on prediction of average local and interference effects:\")\n",
    "print(\"--------------------------------------------------------------\")\n",
    "print(f\"Average direct effect (T_bar = 0) = {np.mean(de_error_0):.5f} +/- {np.std(de_error_0):.5f}\")\n",
    "print(f\"Average direct effect (T_bar = 1) = {np.mean(de_error_1):.5f} +/- {np.std(de_error_1):.5f}\")\n",
    "print(f\"Average indirect effect (T = 0) = {np.mean(ie_error_0):.5f} +/- {np.std(ie_error_0):.5f}\")\n",
    "print(f\"Average indirect effect (T = 1) = {np.mean(ie_error_1):.5f} +/- {np.std(ie_error_1):.5f}\")\n",
    "print(f\"Average total effect = {np.mean(te_error):.5f} +/- {np.std(te_error):.5f}\")"
   ]
  }
 ],
 "metadata": {
  "kernelspec": {
   "display_name": "Python 3 (ipykernel)",
   "language": "python",
   "name": "python3"
  },
  "language_info": {
   "codemirror_mode": {
    "name": "ipython",
    "version": 3
   },
   "file_extension": ".py",
   "mimetype": "text/x-python",
   "name": "python",
   "nbconvert_exporter": "python",
   "pygments_lexer": "ipython3",
   "version": "3.12.0"
  }
 },
 "nbformat": 4,
 "nbformat_minor": 5
}
