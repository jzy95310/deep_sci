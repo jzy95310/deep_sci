{
 "cells": [
  {
   "cell_type": "code",
   "execution_count": 1,
   "id": "40199b3d",
   "metadata": {},
   "outputs": [],
   "source": [
    "import sys\n",
    "sys.path.insert(0, '../src/')\n",
    "import joblib\n",
    "import numpy as np\n",
    "import torch\n",
    "from torch.utils.data import DataLoader\n",
    "\n",
    "from data_generator import train_val_test_split\n",
    "from models import NonlinearSCI\n",
    "from trainers import Trainer\n",
    "\n",
    "# To make this notebook's output stable across runs\n",
    "np.random.seed(2020)\n",
    "torch.manual_seed(2020)\n",
    "torch.cuda.manual_seed(2020)\n",
    "torch.cuda.manual_seed_all(2020)\n",
    "torch.backends.cudnn.deterministic = True"
   ]
  },
  {
   "cell_type": "markdown",
   "id": "e31ed42f",
   "metadata": {},
   "source": [
    "# Load and preprocess data"
   ]
  },
  {
   "cell_type": "code",
   "execution_count": 2,
   "id": "d611b6a4",
   "metadata": {},
   "outputs": [],
   "source": [
    "data = joblib.load('../data/dataset_1.joblib')\n",
    "# Data must be in the order of: interventions, observed confounders, observed spatial confounders\n",
    "center_idx = data[0][3].shape[0] // 2\n",
    "ndvi = np.array([x[3][center_idx,center_idx] for x in data])   # intervention\n",
    "nlcd = np.array([x[2] for x in data])                          # confounder\n",
    "ndvi_neighbors = np.array([x[3] for x in data])                # spatial confounder\n",
    "ndvi_neighbors = np.expand_dims(ndvi_neighbors, axis=1)\n",
    "features = [ndvi, nlcd, ndvi_neighbors]\n",
    "spatial_features = np.array([abs(x[0]-x[1]) for x in data])\n",
    "targets = np.array([x[4] for x in data])\n",
    "\n",
    "train_dataset, val_dataset, test_dataset = train_val_test_split(\n",
    "    features, spatial_features, targets, train_size=0.6, val_size=0.2, test_size=0.2, shuffle=True\n",
    ")\n",
    "train_dataloader = DataLoader(train_dataset, batch_size=16, shuffle=True)\n",
    "val_dataloader = DataLoader(val_dataset, batch_size=16, shuffle=False)\n",
    "test_dataloader = DataLoader(test_dataset, batch_size=16, shuffle=False)\n",
    "dataloaders = {'train': train_dataloader, 'val': val_dataloader, 'test': test_dataloader}"
   ]
  },
  {
   "cell_type": "markdown",
   "id": "af1a78dc",
   "metadata": {},
   "source": [
    "# Build and train nonlinear SCI model"
   ]
  },
  {
   "cell_type": "code",
   "execution_count": null,
   "id": "2831bfdc",
   "metadata": {},
   "outputs": [],
   "source": [
    "min_dist, max_dist = np.min(spatial_features), np.max(spatial_features)\n",
    "model = NonlinearSCI(\n",
    "    num_interventions=1, \n",
    "    num_confounders=1, \n",
    "    num_spatial_confounders=1, \n",
    "    confounder_dim=nlcd.shape[-1], \n",
    "    window_size=ndvi_neighbors.shape[-1], \n",
    "    unobserved_confounder=True, \n",
    "    nys_space=[[0,2093]]\n",
    ")\n",
    "\n",
    "device = torch.device(\"cuda\" if torch.cuda.is_available() else \"cpu\")\n",
    "optim = 'sgd'\n",
    "optim_params = {\n",
    "    'lr': 1e-5,\n",
    "}\n",
    "epochs, patience = 1000, 10\n",
    "trainer = Trainer(\n",
    "    model=model, \n",
    "    data_generators=dataloaders, \n",
    "    optim=optim, \n",
    "    optim_params=optim_params, \n",
    "    device=device,\n",
    "    epochs=epochs,\n",
    "    patience=patience\n",
    ")\n",
    "trainer.train()"
   ]
  }
 ],
 "metadata": {
  "kernelspec": {
   "display_name": "Python 3 (ipykernel)",
   "language": "python",
   "name": "python3"
  },
  "language_info": {
   "codemirror_mode": {
    "name": "ipython",
    "version": 3
   },
   "file_extension": ".py",
   "mimetype": "text/x-python",
   "name": "python",
   "nbconvert_exporter": "python",
   "pygments_lexer": "ipython3",
   "version": "3.8.12"
  }
 },
 "nbformat": 4,
 "nbformat_minor": 5
}
