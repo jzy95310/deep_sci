{
 "cells": [
  {
   "cell_type": "code",
   "execution_count": 1,
   "id": "01b93a91",
   "metadata": {},
   "outputs": [],
   "source": [
    "import torch\n",
    "import os, sys\n",
    "sys.path.insert(0, '../src')\n",
    "import wandb\n",
    "import pickle as pkl\n",
    "import numpy as np\n",
    "from scipy.stats import gaussian_kde\n",
    "from tqdm.notebook import tqdm\n",
    "from torch.utils.data import DataLoader\n",
    "import matplotlib.pyplot as plt\n",
    "\n",
    "from data_generator import SpatialDataset, train_val_test_split, train_val_test_split_gps\n",
    "from models import LinearSCI, NonlinearSCI\n",
    "from trainers import Trainer, GPSModelTrainer\n",
    "from gps import GeneralizedPropensityScoreModel\n",
    "\n",
    "# Experimental tracking\n",
    "# wandb.login()\n",
    "\n",
    "np.random.seed(2020)\n",
    "torch.manual_seed(2020)\n",
    "torch.cuda.manual_seed(2020)\n",
    "torch.cuda.manual_seed_all(2020)\n",
    "torch.backends.cudnn.deterministic = True"
   ]
  },
  {
   "cell_type": "markdown",
   "id": "8b8ec598",
   "metadata": {},
   "source": [
    "# Load data"
   ]
  },
  {
   "cell_type": "code",
   "execution_count": 2,
   "id": "c22746a9",
   "metadata": {},
   "outputs": [],
   "source": [
    "with open('../data/synthetic_data.pkl', 'rb') as fp:\n",
    "    data = pkl.load(fp)\n",
    "neighborhood_size, num_bins = data['neighborhood_size'], 50\n",
    "T = np.concatenate(\n",
    "    [data['T_bar'][:,:neighborhood_size], \n",
    "     data['T'], \n",
    "     data['T_bar'][:,neighborhood_size:]], axis=1)\n",
    "X, Y, s = data['X'], data['Y'], data['s']\n",
    "de, ie, te = data['de'], data['ie'], data['te']\n",
    "Y_direct, Y_indirect, Y_total = data['Y_direct'], data['Y_indirect'], data['Y_total']\n",
    "T_min, T_max = np.min(data['T']), np.max(data['T'])\n",
    "\n",
    "train_dataset, val_dataset, test_dataset = train_val_test_split(\n",
    "    t=[T], x=X, s=s, y=Y, train_size=0.6, val_size=0.2, test_size=0.2, \n",
    "    shuffle=True, random_state=2020\n",
    ")\n",
    "train_loader = DataLoader(train_dataset, batch_size=50, shuffle=True)\n",
    "val_loader = DataLoader(val_dataset, batch_size=50, shuffle=False)\n",
    "test_loader = DataLoader(test_dataset, batch_size=50, shuffle=False)\n",
    "dataloaders = {'train': train_loader, 'val': val_loader, 'test': test_loader}\n",
    "\n",
    "train_dataset_gps, val_dataset_gps, _ = train_val_test_split_gps(\n",
    "    t=data['T'], x=X, s=s, train_size=0.8, val_size=0.2, test_size=0.0, \n",
    "    shuffle=True, random_state=2020\n",
    ")\n",
    "train_loader_gps = DataLoader(train_dataset_gps, batch_size=50, shuffle=True)\n",
    "val_loader_gps = DataLoader(val_dataset_gps, batch_size=50, shuffle=False)\n",
    "dataloaders_gps = {'train': train_loader_gps, 'val': val_loader_gps, 'test': None}"
   ]
  },
  {
   "cell_type": "markdown",
   "id": "0a6fca57-d0a5-4062-855d-899d1a6af69d",
   "metadata": {},
   "source": [
    "# Generalized Propensity Model and Stabilized Weights"
   ]
  },
  {
   "cell_type": "code",
   "execution_count": null,
   "id": "8f14c8f9-2794-4201-a052-8ecb2069cd44",
   "metadata": {},
   "outputs": [],
   "source": [
    "# GPS model\n",
    "gps_model = GeneralizedPropensityScoreModel(\n",
    "    input_dim=X.shape[1]+s.shape[1],\n",
    "    num_hidden_layers=1,\n",
    "    hidden_dims=16\n",
    ")\n",
    "\n",
    "device = torch.device(\"cuda\" if torch.cuda.is_available() else \"cpu\")\n",
    "optim = \"sgd\"\n",
    "optim_params = {\n",
    "    'lr': 1e-3, \n",
    "    'momentum': 0.99\n",
    "}\n",
    "epochs, patience = 1000, 50\n",
    "trainer = GPSModelTrainer(\n",
    "    model=gps_model, \n",
    "    data_generators=dataloaders_gps, \n",
    "    optim=optim, \n",
    "    optim_params=optim_params, \n",
    "    device=device,\n",
    "    epochs=epochs,\n",
    "    patience=patience\n",
    ")\n",
    "trainer.train()\n",
    "\n",
    "# Stabilized weights model\n",
    "sw_model = gaussian_kde(data['T'].squeeze())"
   ]
  },
  {
   "cell_type": "markdown",
   "id": "f030ccd5",
   "metadata": {},
   "source": [
    "# Method 1: Linear model without U"
   ]
  },
  {
   "cell_type": "code",
   "execution_count": null,
   "id": "e6e2d42f",
   "metadata": {},
   "outputs": [],
   "source": [
    "num_iterations = 5\n",
    "de_error, ie_error, te_error = [], [], []\n",
    "\n",
    "for _ in tqdm(range(num_iterations), position=0, leave=True):\n",
    "    model = LinearSCI(\n",
    "        num_interventions=1, \n",
    "        window_size=neighborhood_size*2+1, \n",
    "        confounder_dim=X.shape[1]\n",
    "    )\n",
    "    \n",
    "    # Training\n",
    "    device = torch.device(\"cuda\" if torch.cuda.is_available() else \"cpu\")\n",
    "    optim = \"sgd\"\n",
    "    optim_params = {\n",
    "        'lr': 1e-3, \n",
    "        'momentum': 0.99, \n",
    "        'weight_decay': 0.01\n",
    "    }\n",
    "    epochs, patience = 1000, 50\n",
    "    trainer = Trainer(\n",
    "        model=model, \n",
    "        data_generators=dataloaders, \n",
    "        optim=optim, \n",
    "        optim_params=optim_params, \n",
    "        window_size=neighborhood_size*2+1, \n",
    "        t_idx=0, \n",
    "        gps_model=gps_model, \n",
    "        sw_model=sw_model, \n",
    "        device=device,\n",
    "        epochs=epochs,\n",
    "        patience=patience\n",
    "    )\n",
    "    trainer.train()\n",
    "\n",
    "    # Evaluation\n",
    "    Y_direct_pred = trainer.predict(mode='direct', t_min=T_min, t_max=T_max, num_bins=num_bins, weighting='snipw')\n",
    "    Y_indirect_pred = trainer.predict(mode='indirect', t_min=T_min, t_max=T_max, num_bins=num_bins, weighting='snipw')\n",
    "    Y_total_pred = trainer.predict(mode='total', t_min=T_min, t_max=T_max, num_bins=num_bins, weighting='snipw')\n",
    "    de_pred = np.mean(np.mean(Y_direct_pred, axis=1), axis=0)\n",
    "    ie_pred = np.mean(np.mean(Y_indirect_pred, axis=1), axis=0)\n",
    "    te_pred = np.mean(np.mean(Y_total_pred, axis=1), axis=0)\n",
    "    de_error.append(np.abs(de_pred - de))\n",
    "    ie_error.append(np.abs(ie_pred - ie))\n",
    "    te_error.append(np.abs(te_pred - te))"
   ]
  },
  {
   "cell_type": "code",
   "execution_count": 5,
   "id": "4625ec95-141c-48cf-8a82-675b1904972b",
   "metadata": {},
   "outputs": [
    {
     "name": "stdout",
     "output_type": "stream",
     "text": [
      "Error on prediction of average local and interference effects:\n",
      "--------------------------------------------------------------\n",
      "Average direct effect = 0.70925 +/- 0.02269\n",
      "Average indirect effect = 0.80613 +/- 0.07961\n",
      "Average total effect = 0.78086 +/- 0.07064\n"
     ]
    }
   ],
   "source": [
    "print(\"Error on prediction of average local and interference effects:\")\n",
    "print(\"--------------------------------------------------------------\")\n",
    "print(f\"Average direct effect = {np.mean(de_error):.5f} +/- {np.std(de_error):.5f}\")\n",
    "print(f\"Average indirect effect = {np.mean(ie_error):.5f} +/- {np.std(ie_error):.5f}\")\n",
    "print(f\"Average total effect = {np.mean(te_error):.5f} +/- {np.std(te_error):.5f}\")"
   ]
  },
  {
   "cell_type": "markdown",
   "id": "0ed40a31",
   "metadata": {},
   "source": [
    "# Model 2: Linear model with U"
   ]
  },
  {
   "cell_type": "code",
   "execution_count": null,
   "id": "9ba41c83",
   "metadata": {},
   "outputs": [],
   "source": [
    "num_iterations = 5\n",
    "de_error, ie_error, te_error = [], [], []\n",
    "\n",
    "for _ in tqdm(range(num_iterations), position=0, leave=True):\n",
    "    model = LinearSCI(\n",
    "        num_interventions=1, \n",
    "        window_size=neighborhood_size*2+1, \n",
    "        confounder_dim=X.shape[1], \n",
    "        unobserved_confounder=True, \n",
    "        kernel_param_vals=[1.,0.5,0.5]\n",
    "    )\n",
    "    \n",
    "    # Training\n",
    "    device = torch.device(\"cuda\" if torch.cuda.is_available() else \"cpu\")\n",
    "    optim = \"sgd\"\n",
    "    optim_params = {\n",
    "        'lr': 1e-3, \n",
    "        'momentum': 0.99, \n",
    "        'weight_decay': 0.01\n",
    "    }\n",
    "    epochs, patience = 1000, 50\n",
    "    trainer = Trainer(\n",
    "        model=model, \n",
    "        data_generators=dataloaders, \n",
    "        optim=optim, \n",
    "        optim_params=optim_params, \n",
    "        window_size=neighborhood_size*2+1, \n",
    "        t_idx=0, \n",
    "        gps_model=gps_model, \n",
    "        sw_model=sw_model, \n",
    "        device=device,\n",
    "        epochs=epochs,\n",
    "        patience=patience\n",
    "    )\n",
    "    trainer.train()\n",
    "\n",
    "    # Evaluation\n",
    "    Y_direct_pred = trainer.predict(mode='direct', t_min=T_min, t_max=T_max, num_bins=num_bins, weighting='snipw')\n",
    "    Y_indirect_pred = trainer.predict(mode='indirect', t_min=T_min, t_max=T_max, num_bins=num_bins, weighting='snipw')\n",
    "    Y_total_pred = trainer.predict(mode='total', t_min=T_min, t_max=T_max, num_bins=num_bins, weighting='snipw')\n",
    "    de_pred = np.mean(np.mean(Y_direct_pred, axis=1), axis=0)\n",
    "    ie_pred = np.mean(np.mean(Y_indirect_pred, axis=1), axis=0)\n",
    "    te_pred = np.mean(np.mean(Y_total_pred, axis=1), axis=0)\n",
    "    de_error.append(np.abs(de_pred - de))\n",
    "    ie_error.append(np.abs(ie_pred - ie))\n",
    "    te_error.append(np.abs(te_pred - te))"
   ]
  },
  {
   "cell_type": "code",
   "execution_count": 7,
   "id": "df443110-7168-4c2c-b8d1-6dc4e75b82f6",
   "metadata": {},
   "outputs": [
    {
     "name": "stdout",
     "output_type": "stream",
     "text": [
      "Error on prediction of average local and interference effects:\n",
      "--------------------------------------------------------------\n",
      "Average direct effect = 0.10790 +/- 0.01160\n",
      "Average indirect effect = 0.12261 +/- 0.00959\n",
      "Average total effect = 0.11484 +/- 0.01790\n"
     ]
    }
   ],
   "source": [
    "print(\"Error on prediction of average local and interference effects:\")\n",
    "print(\"--------------------------------------------------------------\")\n",
    "print(f\"Average direct effect = {np.mean(de_error):.5f} +/- {np.std(de_error):.5f}\")\n",
    "print(f\"Average indirect effect = {np.mean(ie_error):.5f} +/- {np.std(ie_error):.5f}\")\n",
    "print(f\"Average total effect = {np.mean(te_error):.5f} +/- {np.std(te_error):.5f}\")"
   ]
  },
  {
   "cell_type": "markdown",
   "id": "de48a756",
   "metadata": {},
   "source": [
    "# Model 3: Nonlinear model without U (f: MLP, g:MLP)"
   ]
  },
  {
   "cell_type": "code",
   "execution_count": null,
   "id": "cde97382",
   "metadata": {},
   "outputs": [],
   "source": [
    "num_iterations = 5\n",
    "de_error, ie_error, te_error = [], [], []\n",
    "\n",
    "for _ in tqdm(range(num_iterations), position=0, leave=True):\n",
    "    model = NonlinearSCI(\n",
    "        num_interventions=1, \n",
    "        window_size=neighborhood_size*2+1, \n",
    "        confounder_dim=X.shape[1], \n",
    "        f_network_type=\"mlp\", \n",
    "        f_hidden_dims=[256,256], \n",
    "        g_network_type=\"mlp\", \n",
    "        g_hidden_dims=[256,256]\n",
    "    )\n",
    "    \n",
    "    # Training\n",
    "    device = torch.device(\"cuda\" if torch.cuda.is_available() else \"cpu\")\n",
    "    optim = \"sgd\"\n",
    "    optim_params = {\n",
    "        'lr': 1e-3, \n",
    "        'momentum': 0.99, \n",
    "        'weight_decay': 0.01\n",
    "    }\n",
    "    epochs, patience = 1000, 50\n",
    "    trainer = Trainer(\n",
    "        model=model, \n",
    "        data_generators=dataloaders, \n",
    "        optim=optim, \n",
    "        optim_params=optim_params, \n",
    "        window_size=neighborhood_size*2+1, \n",
    "        t_idx=0, \n",
    "        gps_model=gps_model, \n",
    "        sw_model=sw_model, \n",
    "        device=device,\n",
    "        epochs=epochs,\n",
    "        patience=patience\n",
    "    )\n",
    "    trainer.train()\n",
    "\n",
    "    # Evaluation\n",
    "    Y_direct_pred = trainer.predict(mode='direct', t_min=T_min, t_max=T_max, num_bins=num_bins, weighting='snipw')\n",
    "    Y_indirect_pred = trainer.predict(mode='indirect', t_min=T_min, t_max=T_max, num_bins=num_bins, weighting='snipw')\n",
    "    Y_total_pred = trainer.predict(mode='total', t_min=T_min, t_max=T_max, num_bins=num_bins, weighting='snipw')\n",
    "    de_pred = np.mean(np.mean(Y_direct_pred, axis=1), axis=0)\n",
    "    ie_pred = np.mean(np.mean(Y_indirect_pred, axis=1), axis=0)\n",
    "    te_pred = np.mean(np.mean(Y_total_pred, axis=1), axis=0)\n",
    "    de_error.append(np.abs(de_pred - de))\n",
    "    ie_error.append(np.abs(ie_pred - ie))\n",
    "    te_error.append(np.abs(te_pred - te))"
   ]
  },
  {
   "cell_type": "code",
   "execution_count": 9,
   "id": "0aa85a24-0b65-4204-b7d9-b21813070a7d",
   "metadata": {},
   "outputs": [
    {
     "name": "stdout",
     "output_type": "stream",
     "text": [
      "Error on prediction of average local and interference effects:\n",
      "--------------------------------------------------------------\n",
      "Average direct effect = 0.07780 +/- 0.04942\n",
      "Average indirect effect = 0.23065 +/- 0.05397\n",
      "Average total effect = 0.34749 +/- 0.09264\n"
     ]
    }
   ],
   "source": [
    "print(\"Error on prediction of average local and interference effects:\")\n",
    "print(\"--------------------------------------------------------------\")\n",
    "print(f\"Average direct effect = {np.mean(de_error):.5f} +/- {np.std(de_error):.5f}\")\n",
    "print(f\"Average indirect effect = {np.mean(ie_error):.5f} +/- {np.std(ie_error):.5f}\")\n",
    "print(f\"Average total effect = {np.mean(te_error):.5f} +/- {np.std(te_error):.5f}\")"
   ]
  },
  {
   "cell_type": "markdown",
   "id": "d7591058",
   "metadata": {},
   "source": [
    "# Model 4: Nonlinear model with U (f: MLP, g: MLP)"
   ]
  },
  {
   "cell_type": "code",
   "execution_count": null,
   "id": "a169d881",
   "metadata": {},
   "outputs": [],
   "source": [
    "num_iterations = 5\n",
    "de_error, ie_error, te_error = [], [], []\n",
    "\n",
    "for _ in tqdm(range(num_iterations), position=0, leave=True):\n",
    "    model = NonlinearSCI(\n",
    "        num_interventions=1, \n",
    "        window_size=neighborhood_size*2+1, \n",
    "        confounder_dim=X.shape[1], \n",
    "        f_network_type=\"mlp\", \n",
    "        f_hidden_dims=[256,256], \n",
    "        g_network_type=\"mlp\", \n",
    "        g_hidden_dims=[256,256], \n",
    "        unobserved_confounder=True, \n",
    "        kernel_param_vals=[1.,0.5,0.5]\n",
    "    )\n",
    "    \n",
    "    # Training\n",
    "    device = torch.device(\"cuda\" if torch.cuda.is_available() else \"cpu\")\n",
    "    optim = \"sgd\"\n",
    "    optim_params = {\n",
    "        'lr': 1e-3, \n",
    "        'momentum': 0.99, \n",
    "        'weight_decay': 0.01\n",
    "    }\n",
    "    epochs, patience = 1000, 50\n",
    "    trainer = Trainer(\n",
    "        model=model, \n",
    "        data_generators=dataloaders, \n",
    "        optim=optim, \n",
    "        optim_params=optim_params, \n",
    "        window_size=neighborhood_size*2+1, \n",
    "        t_idx=0, \n",
    "        gps_model=gps_model, \n",
    "        sw_model=sw_model, \n",
    "        device=device,\n",
    "        epochs=epochs,\n",
    "        patience=patience\n",
    "    )\n",
    "    trainer.train()\n",
    "\n",
    "    # Evaluation\n",
    "    Y_direct_pred = trainer.predict(mode='direct', t_min=T_min, t_max=T_max, num_bins=num_bins, weighting='snipw')\n",
    "    Y_indirect_pred = trainer.predict(mode='indirect', t_min=T_min, t_max=T_max, num_bins=num_bins, weighting='snipw')\n",
    "    Y_total_pred = trainer.predict(mode='total', t_min=T_min, t_max=T_max, num_bins=num_bins, weighting='snipw')\n",
    "    de_pred = np.mean(np.mean(Y_direct_pred, axis=1), axis=0)\n",
    "    ie_pred = np.mean(np.mean(Y_indirect_pred, axis=1), axis=0)\n",
    "    te_pred = np.mean(np.mean(Y_total_pred, axis=1), axis=0)\n",
    "    de_error.append(np.abs(de_pred - de))\n",
    "    ie_error.append(np.abs(ie_pred - ie))\n",
    "    te_error.append(np.abs(te_pred - te))"
   ]
  },
  {
   "cell_type": "code",
   "execution_count": 11,
   "id": "d85c6635-eb66-42c3-b584-6e04cbad9b22",
   "metadata": {},
   "outputs": [
    {
     "name": "stdout",
     "output_type": "stream",
     "text": [
      "Error on prediction of average local and interference effects:\n",
      "--------------------------------------------------------------\n",
      "Average direct effect = 0.09552 +/- 0.01616\n",
      "Average indirect effect = 0.11573 +/- 0.00453\n",
      "Average total effect = 0.09545 +/- 0.01625\n"
     ]
    }
   ],
   "source": [
    "print(\"Error on prediction of average local and interference effects:\")\n",
    "print(\"--------------------------------------------------------------\")\n",
    "print(f\"Average direct effect = {np.mean(de_error):.5f} +/- {np.std(de_error):.5f}\")\n",
    "print(f\"Average indirect effect = {np.mean(ie_error):.5f} +/- {np.std(ie_error):.5f}\")\n",
    "print(f\"Average total effect = {np.mean(te_error):.5f} +/- {np.std(te_error):.5f}\")"
   ]
  }
 ],
 "metadata": {
  "kernelspec": {
   "display_name": "Python 3 (ipykernel)",
   "language": "python",
   "name": "python3"
  },
  "language_info": {
   "codemirror_mode": {
    "name": "ipython",
    "version": 3
   },
   "file_extension": ".py",
   "mimetype": "text/x-python",
   "name": "python",
   "nbconvert_exporter": "python",
   "pygments_lexer": "ipython3",
   "version": "3.12.0"
  }
 },
 "nbformat": 4,
 "nbformat_minor": 5
}
