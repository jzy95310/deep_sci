{
 "cells": [
  {
   "cell_type": "code",
   "execution_count": 1,
   "id": "44f19514",
   "metadata": {},
   "outputs": [],
   "source": [
    "import matplotlib.pyplot as plt\n",
    "import dill as pickle"
   ]
  },
  {
   "cell_type": "code",
   "execution_count": null,
   "id": "e8f784cd",
   "metadata": {},
   "outputs": [],
   "source": [
    "rows = [\n",
    "    'linear_without_U',\n",
    "    'linear_with_U', \n",
    "    'f_cnn_g_mlp_without_U', \n",
    "    'f_cnn_g_mlp_with_U', \n",
    "    'f_cnn_g_dk_mlp_without_U',\n",
    "    'f_cnn_g_dk_mlp_with_U'\n",
    "]\n",
    "cols = ['de', 'ie', 'te']\n",
    "col_names = ['Direct effect', 'Indirect effect', 'Total effect']\n",
    "\n",
    "fig, axs = plt.subplots(6,3,figsize=(15,30))\n",
    "for i in range(len(rows)):\n",
    "    with open(f'./results/results_{rows[i]}.pkl', 'rb') as f:\n",
    "        res = pickle.load(f)\n",
    "    for j in range(len(cols)):\n",
    "        img = res[cols[j]]\n",
    "        im = axs[i][j].imshow(img,cmap=plt.cm.viridis)\n",
    "        axs[i][j].set_xticks([])\n",
    "        axs[i][j].set_yticks([])\n",
    "        fig.colorbar(im,ax=axs[i][j],shrink=0.71)\n",
    "\n",
    "for i in range(len(rows)):\n",
    "    axs[i][0].set_ylabel(rows[i],fontsize=15)\n",
    "for j in range(len(cols)):\n",
    "    axs[-1][j].set_xlabel(col_names[j], fontsize=15)  \n",
    "plt.tight_layout(h_pad=0.9,w_pad=0.9)\n",
    "plt.savefig('./Causal_effect_visualizations.pdf', dpi=300)"
   ]
  }
 ],
 "metadata": {
  "kernelspec": {
   "display_name": "Python 3 (ipykernel)",
   "language": "python",
   "name": "python3"
  },
  "language_info": {
   "codemirror_mode": {
    "name": "ipython",
    "version": 3
   },
   "file_extension": ".py",
   "mimetype": "text/x-python",
   "name": "python",
   "nbconvert_exporter": "python",
   "pygments_lexer": "ipython3",
   "version": "3.8.12"
  }
 },
 "nbformat": 4,
 "nbformat_minor": 5
}
