{
 "cells": [
  {
   "cell_type": "code",
   "execution_count": 1,
   "metadata": {},
   "outputs": [],
   "source": [
    "from spatial_dataset_real import DurhamDataset"
   ]
  },
  {
   "cell_type": "code",
   "execution_count": 2,
   "metadata": {},
   "outputs": [],
   "source": [
    "data_dir = \"./durham/\"\n",
    "window_size = 25\n",
    "dataset = DurhamDataset(data_dir, window_size)"
   ]
  },
  {
   "cell_type": "code",
   "execution_count": 3,
   "metadata": {},
   "outputs": [
    {
     "name": "stdout",
     "output_type": "stream",
     "text": [
      "12448\n"
     ]
    }
   ],
   "source": [
    "# Samples with temperature measurements will be used as training data\n",
    "train_data = []\n",
    "for i in range(len(dataset.coords)):\n",
    "    train_data.append(dataset[i])\n",
    "\n",
    "print(len(train_data))"
   ]
  },
  {
   "cell_type": "code",
   "execution_count": 4,
   "metadata": {},
   "outputs": [],
   "source": [
    "import dill as pickle\n",
    "\n",
    "with open('./pickle_files/durham_real_train.pkl', 'wb') as f:\n",
    "    pickle.dump(train_data, f)"
   ]
  },
  {
   "cell_type": "code",
   "execution_count": 6,
   "metadata": {},
   "outputs": [],
   "source": [
    "# All samples (no matter with temperature measurement or not) will be used as test data\n",
    "# However, saving all data points will take too much space, so we just save the data generator\n",
    "test_data = {\n",
    "    \"data_generator\": dataset,\n",
    "    \"height\": 2253, \n",
    "    \"width\": 2307\n",
    "}\n",
    "\n",
    "with open('./pickle_files/durham_real_test.pkl', 'wb') as f:\n",
    "    pickle.dump(test_data, f)"
   ]
  }
 ],
 "metadata": {
  "kernelspec": {
   "display_name": "Python 3 (ipykernel)",
   "language": "python",
   "name": "python3"
  },
  "language_info": {
   "codemirror_mode": {
    "name": "ipython",
    "version": 3
   },
   "file_extension": ".py",
   "mimetype": "text/x-python",
   "name": "python",
   "nbconvert_exporter": "python",
   "pygments_lexer": "ipython3",
   "version": "3.8.12"
  }
 },
 "nbformat": 4,
 "nbformat_minor": 2
}
