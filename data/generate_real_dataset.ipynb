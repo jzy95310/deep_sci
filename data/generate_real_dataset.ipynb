{
 "cells": [
  {
   "cell_type": "code",
   "execution_count": 1,
   "metadata": {},
   "outputs": [],
   "source": [
    "from spatial_dataset_real import DurhamDataset"
   ]
  },
  {
   "cell_type": "code",
   "execution_count": 2,
   "metadata": {},
   "outputs": [],
   "source": [
    "# Print out the args\n",
    "data_dir = \"./durham/\"\n",
    "window_size = 25\n",
    "\n",
    "dataset = DurhamDataset(data_dir, window_size)"
   ]
  },
  {
   "cell_type": "code",
   "execution_count": 6,
   "metadata": {},
   "outputs": [],
   "source": [
    "full_data = []\n",
    "for i in range(len(dataset.coords)):\n",
    "    full_data.append(dataset[i])"
   ]
  },
  {
   "cell_type": "code",
   "execution_count": 10,
   "metadata": {},
   "outputs": [],
   "source": [
    "# Save as a pickle file\n",
    "import pickle\n",
    "\n",
    "with open('./pickles/durham_data.pkl', 'wb') as f:\n",
    "    pickle.dump(full_data, f)"
   ]
  },
  {
   "cell_type": "code",
   "execution_count": 11,
   "metadata": {},
   "outputs": [
    {
     "name": "stdout",
     "output_type": "stream",
     "text": [
      "12448\n"
     ]
    }
   ],
   "source": [
    "print(len(full_data))"
   ]
  }
 ],
 "metadata": {
  "kernelspec": {
   "display_name": "uhi",
   "language": "python",
   "name": "python3"
  },
  "language_info": {
   "codemirror_mode": {
    "name": "ipython",
    "version": 3
   },
   "file_extension": ".py",
   "mimetype": "text/x-python",
   "name": "python",
   "nbconvert_exporter": "python",
   "pygments_lexer": "ipython3",
   "version": "3.11.0"
  }
 },
 "nbformat": 4,
 "nbformat_minor": 2
}
