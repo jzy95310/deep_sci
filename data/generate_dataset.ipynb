{
 "cells": [
  {
   "cell_type": "markdown",
   "metadata": {},
   "source": [
    "# Generate dataset\n",
    "This notebook demonstrates how to generate the dataset used for analysis."
   ]
  },
  {
   "cell_type": "code",
   "execution_count": 2,
   "metadata": {},
   "outputs": [],
   "source": [
    "# All we need to do is import the package we made\n",
    "import spatial_dataset"
   ]
  },
  {
   "cell_type": "code",
   "execution_count": 3,
   "metadata": {},
   "outputs": [],
   "source": [
    "# Use the package, along with the given arguments\n",
    "sd = spatial_dataset.SpatialDataset(\n",
    "    \"./durham/\",\n",
    "    25,\n",
    "    300,\n",
    "    10\n",
    ")"
   ]
  },
  {
   "cell_type": "code",
   "execution_count": 4,
   "metadata": {},
   "outputs": [],
   "source": [
    "# To actually create the dataset for use, we are going to generate all of the data and save it.\n",
    "data = []\n",
    "\n",
    "for val in range(len(sd)):\n",
    "    data.append(sd[val])"
   ]
  },
  {
   "cell_type": "code",
   "execution_count": 5,
   "metadata": {},
   "outputs": [],
   "source": [
    "# Save the dataset to a file\n",
    "# not done yet, since we already generated the dataset"
   ]
  }
 ],
 "metadata": {
  "kernelspec": {
   "display_name": "uhi",
   "language": "python",
   "name": "python3"
  },
  "language_info": {
   "codemirror_mode": {
    "name": "ipython",
    "version": 3
   },
   "file_extension": ".py",
   "mimetype": "text/x-python",
   "name": "python",
   "nbconvert_exporter": "python",
   "pygments_lexer": "ipython3",
   "version": "3.11.0"
  }
 },
 "nbformat": 4,
 "nbformat_minor": 2
}
